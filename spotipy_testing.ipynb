{
 "cells": [
  {
   "attachments": {},
   "cell_type": "markdown",
   "metadata": {},
   "source": [
    "### Based on this article\n",
    "https://towardsdatascience.com/extracting-song-data-from-the-spotify-api-using-python-b1e79388d50"
   ]
  },
  {
   "cell_type": "code",
   "execution_count": 37,
   "metadata": {},
   "outputs": [],
   "source": [
    "import spotipy\n",
    "from spotipy.oauth2 import SpotifyClientCredentials\n",
    "import pandas as pd"
   ]
  },
  {
   "cell_type": "code",
   "execution_count": 27,
   "metadata": {},
   "outputs": [],
   "source": [
    "with open('hide/client_id.txt') as f:\n",
    "    client_id = f.read()\n",
    "\n",
    "with open('hide/client_password.txt') as f:\n",
    "    client_password = f.read()"
   ]
  },
  {
   "cell_type": "code",
   "execution_count": 28,
   "metadata": {},
   "outputs": [],
   "source": [
    "#Authentication - without user\n",
    "client_credentials_manager = SpotifyClientCredentials(client_id=client_id, client_secret=client_password)\n",
    "sp = spotipy.Spotify(client_credentials_manager = client_credentials_manager)"
   ]
  },
  {
   "cell_type": "code",
   "execution_count": 29,
   "metadata": {},
   "outputs": [],
   "source": [
    "playlist_link = \"https://open.spotify.com/playlist/37i9dQZEVXbNG2KDcFcKOF?si=1333723a6eff4b7f\"\n",
    "playlist_URI = playlist_link.split(\"/\")[-1].split(\"?\")[0]\n",
    "track_uris = [x[\"track\"][\"uri\"] for x in sp.playlist_tracks(playlist_URI)[\"items\"]]"
   ]
  },
  {
   "cell_type": "code",
   "execution_count": 30,
   "metadata": {},
   "outputs": [],
   "source": [
    "for track in sp.playlist_tracks(playlist_URI)[\"items\"]:\n",
    "    #URI\n",
    "    track_uri = track[\"track\"][\"uri\"]\n",
    "    \n",
    "    #Track name\n",
    "    track_name = track[\"track\"][\"name\"]\n",
    "    \n",
    "    #Main Artist\n",
    "    artist_uri = track[\"track\"][\"artists\"][0][\"uri\"]\n",
    "    artist_info = sp.artist(artist_uri)\n",
    "    \n",
    "    #Name, popularity, genre\n",
    "    artist_name = track[\"track\"][\"artists\"][0][\"name\"]\n",
    "    artist_pop = artist_info[\"popularity\"]\n",
    "    artist_genres = artist_info[\"genres\"]\n",
    "    \n",
    "    #Album\n",
    "    album = track[\"track\"][\"album\"][\"name\"]\n",
    "    \n",
    "    #Popularity of the track\n",
    "    track_pop = track[\"track\"][\"popularity\"]"
   ]
  },
  {
   "cell_type": "code",
   "execution_count": 28,
   "metadata": {},
   "outputs": [
    {
     "data": {
      "text/plain": [
       "{'danceability': 0.914,\n",
       " 'energy': 0.622,\n",
       " 'key': 7,\n",
       " 'loudness': -6.538,\n",
       " 'mode': 1,\n",
       " 'speechiness': 0.0892,\n",
       " 'acousticness': 0.146,\n",
       " 'instrumentalness': 1.68e-05,\n",
       " 'liveness': 0.0632,\n",
       " 'valence': 0.77,\n",
       " 'tempo': 130.04,\n",
       " 'type': 'audio_features',\n",
       " 'id': '53tfEupEzQRtVFOeZvk7xq',\n",
       " 'uri': 'spotify:track:53tfEupEzQRtVFOeZvk7xq',\n",
       " 'track_href': 'https://api.spotify.com/v1/tracks/53tfEupEzQRtVFOeZvk7xq',\n",
       " 'analysis_url': 'https://api.spotify.com/v1/audio-analysis/53tfEupEzQRtVFOeZvk7xq',\n",
       " 'duration_ms': 156788,\n",
       " 'time_signature': 4}"
      ]
     },
     "execution_count": 28,
     "metadata": {},
     "output_type": "execute_result"
    }
   ],
   "source": [
    "sp.audio_features(track_uri)[0]"
   ]
  },
  {
   "attachments": {},
   "cell_type": "markdown",
   "metadata": {},
   "source": [
    "------------------"
   ]
  },
  {
   "attachments": {},
   "cell_type": "markdown",
   "metadata": {},
   "source": [
    "https://spotipy.readthedocs.io/en/latest/"
   ]
  },
  {
   "cell_type": "code",
   "execution_count": 30,
   "metadata": {},
   "outputs": [
    {
     "name": "stdout",
     "output_type": "stream",
     "text": [
      "Young Heart\n",
      "Beautiful Lies\n",
      "Beautiful Lies\n",
      "Beautiful Lies (Deluxe)\n",
      "Beautiful Lies (Deluxe)\n",
      "Fire Within\n",
      "Fire Within\n",
      "Fire Within (Deluxe)\n",
      "Fire Within (Deluxe)\n",
      "Fire Within (Deluxe)\n",
      "Live in London\n",
      "Birdy\n",
      "Birdy\n",
      "Birdy\n",
      "Birdy\n",
      "Birdy (Deluxe Version)\n"
     ]
    }
   ],
   "source": [
    "birdy_uri = 'spotify:artist:2WX2uTcsvV5OnS0inACecP'\n",
    "client_credentials_manager = SpotifyClientCredentials(client_id=client_id, client_secret=client_password)\n",
    "spotify = spotipy.Spotify(client_credentials_manager = client_credentials_manager)\n",
    "\n",
    "results = spotify.artist_albums(birdy_uri, album_type='album')\n",
    "albums = results['items']\n",
    "while results['next']:\n",
    "    results = spotify.next(results)\n",
    "    albums.extend(results['items'])\n",
    "\n",
    "for album in albums:\n",
    "    print(album['name'])"
   ]
  },
  {
   "attachments": {},
   "cell_type": "markdown",
   "metadata": {},
   "source": [
    "----------------"
   ]
  },
  {
   "attachments": {},
   "cell_type": "markdown",
   "metadata": {},
   "source": [
    "### Maneskin RUSH album"
   ]
  },
  {
   "cell_type": "code",
   "execution_count": 31,
   "metadata": {},
   "outputs": [],
   "source": [
    "rush_maneskin = sp.album(album_id='https://open.spotify.com/album/2KUaR4K36tSliwAoUA1gcs')"
   ]
  },
  {
   "cell_type": "code",
   "execution_count": 32,
   "metadata": {},
   "outputs": [
    {
     "data": {
      "text/plain": [
       "17"
      ]
     },
     "execution_count": 32,
     "metadata": {},
     "output_type": "execute_result"
    }
   ],
   "source": [
    "len(rush_maneskin['tracks']['items'])"
   ]
  },
  {
   "cell_type": "code",
   "execution_count": 33,
   "metadata": {},
   "outputs": [
    {
     "data": {
      "text/plain": [
       "184"
      ]
     },
     "execution_count": 33,
     "metadata": {},
     "output_type": "execute_result"
    }
   ],
   "source": [
    "len(sp.available_markets()['markets'])"
   ]
  },
  {
   "cell_type": "code",
   "execution_count": 34,
   "metadata": {},
   "outputs": [],
   "source": [
    "countries = sp.available_markets()['markets']"
   ]
  },
  {
   "attachments": {},
   "cell_type": "markdown",
   "metadata": {},
   "source": [
    "#### Album track list"
   ]
  },
  {
   "cell_type": "code",
   "execution_count": 51,
   "metadata": {},
   "outputs": [
    {
     "name": "stdout",
     "output_type": "stream",
     "text": [
      "OWN MY MIND\n",
      "GOSSIP (feat. Tom Morello)\n",
      "TIMEZONE\n",
      "BLA BLA BLA\n",
      "BABY SAID\n",
      "GASOLINE\n",
      "FEEL\n",
      "DON'T WANNA SLEEP\n",
      "KOOL KIDS\n",
      "IF NOT FOR YOU\n",
      "READ YOUR DIARY\n",
      "MARK CHAPMAN\n",
      "LA FINE\n",
      "IL DONO DELLA VITA\n",
      "MAMMAMIA\n",
      "SUPERMODEL\n",
      "THE LONELIEST\n"
     ]
    }
   ],
   "source": [
    "for track in rush_maneskin['tracks']['items']:\n",
    "    print(track['name'])"
   ]
  },
  {
   "cell_type": "code",
   "execution_count": 59,
   "metadata": {},
   "outputs": [
    {
     "data": {
      "text/plain": [
       "dict_keys(['href', 'items', 'limit', 'next', 'offset', 'previous', 'total'])"
      ]
     },
     "execution_count": 59,
     "metadata": {},
     "output_type": "execute_result"
    }
   ],
   "source": [
    "sp.album_tracks('https://open.spotify.com/album/2KUaR4K36tSliwAoUA1gcs').keys()"
   ]
  },
  {
   "attachments": {},
   "cell_type": "markdown",
   "metadata": {},
   "source": [
    "#### First track on the album (OWN MY MIND)"
   ]
  },
  {
   "cell_type": "code",
   "execution_count": 65,
   "metadata": {},
   "outputs": [
    {
     "data": {
      "text/plain": [
       "dict_keys(['artists', 'available_markets', 'disc_number', 'duration_ms', 'explicit', 'external_urls', 'href', 'id', 'is_local', 'name', 'preview_url', 'track_number', 'type', 'uri'])"
      ]
     },
     "execution_count": 65,
     "metadata": {},
     "output_type": "execute_result"
    }
   ],
   "source": [
    "sp.album_tracks('https://open.spotify.com/album/2KUaR4K36tSliwAoUA1gcs')['items'][0].keys()"
   ]
  },
  {
   "attachments": {},
   "cell_type": "markdown",
   "metadata": {},
   "source": [
    "#### Finding the first related artist of Maneskin"
   ]
  },
  {
   "cell_type": "code",
   "execution_count": 38,
   "metadata": {},
   "outputs": [
    {
     "data": {
      "text/plain": [
       "{'external_urls': {'spotify': 'https://open.spotify.com/artist/06nvjg4wBANK6DCHjqtPNd'},\n",
       " 'followers': {'href': None, 'total': 1178048},\n",
       " 'genres': ['italian pop'],\n",
       " 'href': 'https://api.spotify.com/v1/artists/06nvjg4wBANK6DCHjqtPNd',\n",
       " 'id': '06nvjg4wBANK6DCHjqtPNd',\n",
       " 'images': [{'height': 640,\n",
       "   'url': 'https://i.scdn.co/image/ab6761610000e5eb2bd7fdff48b55220c01dd60c',\n",
       "   'width': 640},\n",
       "  {'height': 320,\n",
       "   'url': 'https://i.scdn.co/image/ab676161000051742bd7fdff48b55220c01dd60c',\n",
       "   'width': 320},\n",
       "  {'height': 160,\n",
       "   'url': 'https://i.scdn.co/image/ab6761610000f1782bd7fdff48b55220c01dd60c',\n",
       "   'width': 160}],\n",
       " 'name': 'Mahmood',\n",
       " 'popularity': 64,\n",
       " 'type': 'artist',\n",
       " 'uri': 'spotify:artist:06nvjg4wBANK6DCHjqtPNd'}"
      ]
     },
     "execution_count": 38,
     "metadata": {},
     "output_type": "execute_result"
    }
   ],
   "source": [
    "sp.artist_related_artists('https://open.spotify.com/artist/0lAWpj5szCSwM4rUMHYmrr')['artists'][0]"
   ]
  },
  {
   "attachments": {},
   "cell_type": "markdown",
   "metadata": {},
   "source": [
    "#### General artist info (Maneskin)"
   ]
  },
  {
   "cell_type": "code",
   "execution_count": 95,
   "metadata": {},
   "outputs": [
    {
     "data": {
      "text/plain": [
       "{'external_urls': {'spotify': 'https://open.spotify.com/artist/0lAWpj5szCSwM4rUMHYmrr'},\n",
       " 'followers': {'href': None, 'total': 6814061},\n",
       " 'genres': ['indie rock italiano', 'italian pop'],\n",
       " 'href': 'https://api.spotify.com/v1/artists/0lAWpj5szCSwM4rUMHYmrr',\n",
       " 'id': '0lAWpj5szCSwM4rUMHYmrr',\n",
       " 'images': [{'height': 640,\n",
       "   'url': 'https://i.scdn.co/image/ab6761610000e5eb734144a8667a0bab0a9b9481',\n",
       "   'width': 640},\n",
       "  {'height': 320,\n",
       "   'url': 'https://i.scdn.co/image/ab67616100005174734144a8667a0bab0a9b9481',\n",
       "   'width': 320},\n",
       "  {'height': 160,\n",
       "   'url': 'https://i.scdn.co/image/ab6761610000f178734144a8667a0bab0a9b9481',\n",
       "   'width': 160}],\n",
       " 'name': 'Måneskin',\n",
       " 'popularity': 84,\n",
       " 'type': 'artist',\n",
       " 'uri': 'spotify:artist:0lAWpj5szCSwM4rUMHYmrr'}"
      ]
     },
     "execution_count": 95,
     "metadata": {},
     "output_type": "execute_result"
    }
   ],
   "source": [
    "sp.artist('https://open.spotify.com/artist/0lAWpj5szCSwM4rUMHYmrr')"
   ]
  },
  {
   "attachments": {},
   "cell_type": "markdown",
   "metadata": {},
   "source": [
    "#### Finding top tracks, and picking countries"
   ]
  },
  {
   "cell_type": "code",
   "execution_count": 103,
   "metadata": {},
   "outputs": [
    {
     "data": {
      "text/plain": [
       "dict_keys(['album', 'artists', 'disc_number', 'duration_ms', 'explicit', 'external_ids', 'external_urls', 'href', 'id', 'is_local', 'is_playable', 'name', 'popularity', 'preview_url', 'track_number', 'type', 'uri'])"
      ]
     },
     "execution_count": 103,
     "metadata": {},
     "output_type": "execute_result"
    }
   ],
   "source": [
    "sp.artist_top_tracks('https://open.spotify.com/artist/0lAWpj5szCSwM4rUMHYmrr', country='IT')['tracks'][0].keys()"
   ]
  },
  {
   "cell_type": "code",
   "execution_count": 114,
   "metadata": {},
   "outputs": [
    {
     "data": {
      "text/plain": [
       "'ZITTI E BUONI'"
      ]
     },
     "execution_count": 114,
     "metadata": {},
     "output_type": "execute_result"
    }
   ],
   "source": [
    "sp.artist_top_tracks('https://open.spotify.com/artist/0lAWpj5szCSwM4rUMHYmrr', country='BI')['tracks'][6]['name']"
   ]
  },
  {
   "attachments": {},
   "cell_type": "markdown",
   "metadata": {},
   "source": [
    "#### Finding top category"
   ]
  },
  {
   "cell_type": "code",
   "execution_count": 42,
   "metadata": {},
   "outputs": [
    {
     "data": {
      "text/plain": [
       "{'href': 'https://api.spotify.com/v1/browse/categories/toplists',\n",
       " 'icons': [{'height': 275,\n",
       "   'url': 'https://t.scdn.co/media/derived/toplists_11160599e6a04ac5d6f2757f5511778f_0_0_275_275.jpg',\n",
       "   'width': 275}],\n",
       " 'id': 'toplists',\n",
       " 'name': 'Top Lists'}"
      ]
     },
     "execution_count": 42,
     "metadata": {},
     "output_type": "execute_result"
    }
   ],
   "source": [
    "sp.categories()['categories']['items'][0]"
   ]
  },
  {
   "cell_type": "code",
   "execution_count": 46,
   "metadata": {},
   "outputs": [],
   "source": [
    "top_list = sp.categories()['categories']['items'][0]['id']"
   ]
  },
  {
   "cell_type": "code",
   "execution_count": 47,
   "metadata": {},
   "outputs": [
    {
     "data": {
      "text/plain": [
       "dict_keys(['href', 'items', 'limit', 'next', 'offset', 'previous', 'total'])"
      ]
     },
     "execution_count": 47,
     "metadata": {},
     "output_type": "execute_result"
    }
   ],
   "source": [
    "sp.category_playlists(top_list)['playlists'].keys()"
   ]
  },
  {
   "attachments": {},
   "cell_type": "markdown",
   "metadata": {},
   "source": [
    "#### Showing 12 of the \"top lists\" playlists"
   ]
  },
  {
   "cell_type": "code",
   "execution_count": 50,
   "metadata": {},
   "outputs": [
    {
     "data": {
      "text/plain": [
       "[{'collaborative': False,\n",
       "  'description': 'Sam Smith is on top of the Hottest 50!',\n",
       "  'external_urls': {'spotify': 'https://open.spotify.com/playlist/37i9dQZF1DXcBWIGoYBM5M'},\n",
       "  'href': 'https://api.spotify.com/v1/playlists/37i9dQZF1DXcBWIGoYBM5M',\n",
       "  'id': '37i9dQZF1DXcBWIGoYBM5M',\n",
       "  'images': [{'height': None,\n",
       "    'url': 'https://i.scdn.co/image/ab67706f00000003c57a3acb9f3f0517fe87abe6',\n",
       "    'width': None}],\n",
       "  'name': \"Today's Top Hits\",\n",
       "  'owner': {'display_name': 'Spotify',\n",
       "   'external_urls': {'spotify': 'https://open.spotify.com/user/spotify'},\n",
       "   'href': 'https://api.spotify.com/v1/users/spotify',\n",
       "   'id': 'spotify',\n",
       "   'type': 'user',\n",
       "   'uri': 'spotify:user:spotify'},\n",
       "  'primary_color': None,\n",
       "  'public': None,\n",
       "  'snapshot_id': 'MTY3NTE5NDgxOCwwMDAwMDAwMGU1NDgxYTI4OWU5ZWQzMDljNzI0ZmIzNmRjZWQyNmYy',\n",
       "  'tracks': {'href': 'https://api.spotify.com/v1/playlists/37i9dQZF1DXcBWIGoYBM5M/tracks',\n",
       "   'total': 50},\n",
       "  'type': 'playlist',\n",
       "  'uri': 'spotify:playlist:37i9dQZF1DXcBWIGoYBM5M'},\n",
       " {'collaborative': False,\n",
       "  'description': 'Music from Metro Boomin, DaBaby and Rae Sremmurd. ',\n",
       "  'external_urls': {'spotify': 'https://open.spotify.com/playlist/37i9dQZF1DX0XUsuxWHRQd'},\n",
       "  'href': 'https://api.spotify.com/v1/playlists/37i9dQZF1DX0XUsuxWHRQd',\n",
       "  'id': '37i9dQZF1DX0XUsuxWHRQd',\n",
       "  'images': [{'height': None,\n",
       "    'url': 'https://i.scdn.co/image/ab67706f00000003d9a28961c33c1abc19818a1f',\n",
       "    'width': None}],\n",
       "  'name': 'RapCaviar',\n",
       "  'owner': {'display_name': 'Spotify',\n",
       "   'external_urls': {'spotify': 'https://open.spotify.com/user/spotify'},\n",
       "   'href': 'https://api.spotify.com/v1/users/spotify',\n",
       "   'id': 'spotify',\n",
       "   'type': 'user',\n",
       "   'uri': 'spotify:user:spotify'},\n",
       "  'primary_color': None,\n",
       "  'public': None,\n",
       "  'snapshot_id': 'MTY3NTMxNDAwMCwwMDAwMDAwMDJkYmExMTM5NTFkNjVkNmM1NWYzZDRkMGUzNjk1YzFi',\n",
       "  'tracks': {'href': 'https://api.spotify.com/v1/playlists/37i9dQZF1DX0XUsuxWHRQd/tracks',\n",
       "   'total': 51},\n",
       "  'type': 'playlist',\n",
       "  'uri': 'spotify:playlist:37i9dQZF1DX0XUsuxWHRQd'},\n",
       " {'collaborative': False,\n",
       "  'description': 'Fall Out Boy along with the biggest Rock songs you need to hear today!',\n",
       "  'external_urls': {'spotify': 'https://open.spotify.com/playlist/37i9dQZF1DXcF6B6QPhFDv'},\n",
       "  'href': 'https://api.spotify.com/v1/playlists/37i9dQZF1DXcF6B6QPhFDv',\n",
       "  'id': '37i9dQZF1DXcF6B6QPhFDv',\n",
       "  'images': [{'height': None,\n",
       "    'url': 'https://i.scdn.co/image/ab67706f000000031b9d55c201cd4038b27a7241',\n",
       "    'width': None}],\n",
       "  'name': 'Rock This',\n",
       "  'owner': {'display_name': 'Spotify',\n",
       "   'external_urls': {'spotify': 'https://open.spotify.com/user/spotify'},\n",
       "   'href': 'https://api.spotify.com/v1/users/spotify',\n",
       "   'id': 'spotify',\n",
       "   'type': 'user',\n",
       "   'uri': 'spotify:user:spotify'},\n",
       "  'primary_color': None,\n",
       "  'public': None,\n",
       "  'snapshot_id': 'MTY3NDc5NTYwMCwwMDAwMDAwMDZkZGNlMDAzMzUzMTUzNTgzNzJmMzBkMWNjZWM3OGZh',\n",
       "  'tracks': {'href': 'https://api.spotify.com/v1/playlists/37i9dQZF1DXcF6B6QPhFDv/tracks',\n",
       "   'total': 50},\n",
       "  'type': 'playlist',\n",
       "  'uri': 'spotify:playlist:37i9dQZF1DXcF6B6QPhFDv'},\n",
       " {'collaborative': False,\n",
       "  'description': \"The world's biggest dance hits. Cover: SG Lewis\",\n",
       "  'external_urls': {'spotify': 'https://open.spotify.com/playlist/37i9dQZF1DX4dyzvuaRJ0n'},\n",
       "  'href': 'https://api.spotify.com/v1/playlists/37i9dQZF1DX4dyzvuaRJ0n',\n",
       "  'id': '37i9dQZF1DX4dyzvuaRJ0n',\n",
       "  'images': [{'height': None,\n",
       "    'url': 'https://i.scdn.co/image/ab67706f00000003960a75e2f1e9a5b01b152a7e',\n",
       "    'width': None}],\n",
       "  'name': 'mint',\n",
       "  'owner': {'display_name': 'Spotify',\n",
       "   'external_urls': {'spotify': 'https://open.spotify.com/user/spotify'},\n",
       "   'href': 'https://api.spotify.com/v1/users/spotify',\n",
       "   'id': 'spotify',\n",
       "   'type': 'user',\n",
       "   'uri': 'spotify:user:spotify'},\n",
       "  'primary_color': None,\n",
       "  'public': None,\n",
       "  'snapshot_id': 'MTY3NDc5NTYwMCwwMDAwMDAwMGE2NjBmODhjMDEyMDI0OTQzM2IyN2ZhMDg4NGIyNjI5',\n",
       "  'tracks': {'href': 'https://api.spotify.com/v1/playlists/37i9dQZF1DX4dyzvuaRJ0n/tracks',\n",
       "   'total': 88},\n",
       "  'type': 'playlist',\n",
       "  'uri': 'spotify:playlist:37i9dQZF1DX4dyzvuaRJ0n'},\n",
       " {'collaborative': False,\n",
       "  'description': \"Today's top country hits of the week, worldwide! Cover: Tyler Hubbard\",\n",
       "  'external_urls': {'spotify': 'https://open.spotify.com/playlist/37i9dQZF1DX1lVhptIYRda'},\n",
       "  'href': 'https://api.spotify.com/v1/playlists/37i9dQZF1DX1lVhptIYRda',\n",
       "  'id': '37i9dQZF1DX1lVhptIYRda',\n",
       "  'images': [{'height': None,\n",
       "    'url': 'https://i.scdn.co/image/ab67706f000000035b613f4e6088f5894e960262',\n",
       "    'width': None}],\n",
       "  'name': 'Hot Country',\n",
       "  'owner': {'display_name': 'Spotify',\n",
       "   'external_urls': {'spotify': 'https://open.spotify.com/user/spotify'},\n",
       "   'href': 'https://api.spotify.com/v1/users/spotify',\n",
       "   'id': 'spotify',\n",
       "   'type': 'user',\n",
       "   'uri': 'spotify:user:spotify'},\n",
       "  'primary_color': None,\n",
       "  'public': None,\n",
       "  'snapshot_id': 'MTY3NDc5NTYwMCwwMDAwMDAwMGI4YzM5MmYyOTkzZTJhMmFiYjJlZmVlYjY1YWI3ZTlj',\n",
       "  'tracks': {'href': 'https://api.spotify.com/v1/playlists/37i9dQZF1DX1lVhptIYRda/tracks',\n",
       "   'total': 52},\n",
       "  'type': 'playlist',\n",
       "  'uri': 'spotify:playlist:37i9dQZF1DX1lVhptIYRda'},\n",
       " {'collaborative': False,\n",
       "  'description': \"Today's top Latin hits, elevando nuestra música. Cover: ROSALÍA \",\n",
       "  'external_urls': {'spotify': 'https://open.spotify.com/playlist/37i9dQZF1DX10zKzsJ2jva'},\n",
       "  'href': 'https://api.spotify.com/v1/playlists/37i9dQZF1DX10zKzsJ2jva',\n",
       "  'id': '37i9dQZF1DX10zKzsJ2jva',\n",
       "  'images': [{'height': None,\n",
       "    'url': 'https://i.scdn.co/image/ab67706f000000036dd0cdb75ad98b47d5a9bc58',\n",
       "    'width': None}],\n",
       "  'name': 'Viva Latino',\n",
       "  'owner': {'display_name': 'Spotify',\n",
       "   'external_urls': {'spotify': 'https://open.spotify.com/user/spotify'},\n",
       "   'href': 'https://api.spotify.com/v1/users/spotify',\n",
       "   'id': 'spotify',\n",
       "   'type': 'user',\n",
       "   'uri': 'spotify:user:spotify'},\n",
       "  'primary_color': None,\n",
       "  'public': None,\n",
       "  'snapshot_id': 'MTY3NTA5MDE1MCwwMDAwMDAwMGUyMGU5ZTViNzk0MTI1OTZiOWM4OWM3NzQ4MWE4NmM3',\n",
       "  'tracks': {'href': 'https://api.spotify.com/v1/playlists/37i9dQZF1DX10zKzsJ2jva/tracks',\n",
       "   'total': 50},\n",
       "  'type': 'playlist',\n",
       "  'uri': 'spotify:playlist:37i9dQZF1DX10zKzsJ2jva'},\n",
       " {'collaborative': False,\n",
       "  'description': 'The pulse of R&B music today. Cover: Chloë',\n",
       "  'external_urls': {'spotify': 'https://open.spotify.com/playlist/37i9dQZF1DX4SBhb3fqCJd'},\n",
       "  'href': 'https://api.spotify.com/v1/playlists/37i9dQZF1DX4SBhb3fqCJd',\n",
       "  'id': '37i9dQZF1DX4SBhb3fqCJd',\n",
       "  'images': [{'height': None,\n",
       "    'url': 'https://i.scdn.co/image/ab67706f00000003dfd43bf3a007c5c777cd431d',\n",
       "    'width': None}],\n",
       "  'name': 'Are & Be',\n",
       "  'owner': {'display_name': 'Spotify',\n",
       "   'external_urls': {'spotify': 'https://open.spotify.com/user/spotify'},\n",
       "   'href': 'https://api.spotify.com/v1/users/spotify',\n",
       "   'id': 'spotify',\n",
       "   'type': 'user',\n",
       "   'uri': 'spotify:user:spotify'},\n",
       "  'primary_color': None,\n",
       "  'public': None,\n",
       "  'snapshot_id': 'MTY3NDc5NTY2MCwwMDAwMDAwMGNjMGEzOGIxYmNiYzI3N2YwZGVlMTUyMzBhOTQ3YjI0',\n",
       "  'tracks': {'href': 'https://api.spotify.com/v1/playlists/37i9dQZF1DX4SBhb3fqCJd/tracks',\n",
       "   'total': 50},\n",
       "  'type': 'playlist',\n",
       "  'uri': 'spotify:playlist:37i9dQZF1DX4SBhb3fqCJd'},\n",
       " {'collaborative': False,\n",
       "  'description': 'Your daily update of the most played tracks right now - USA.',\n",
       "  'external_urls': {'spotify': 'https://open.spotify.com/playlist/37i9dQZEVXbLRQDuF5jeBp'},\n",
       "  'href': 'https://api.spotify.com/v1/playlists/37i9dQZEVXbLRQDuF5jeBp',\n",
       "  'id': '37i9dQZEVXbLRQDuF5jeBp',\n",
       "  'images': [{'height': None,\n",
       "    'url': 'https://charts-images.scdn.co/assets/locale_en/regional/daily/region_us_large.jpg',\n",
       "    'width': None}],\n",
       "  'name': 'Top 50 - USA',\n",
       "  'owner': {'display_name': 'Spotify',\n",
       "   'external_urls': {'spotify': 'https://open.spotify.com/user/spotify'},\n",
       "   'href': 'https://api.spotify.com/v1/users/spotify',\n",
       "   'id': 'spotify',\n",
       "   'type': 'user',\n",
       "   'uri': 'spotify:user:spotify'},\n",
       "  'primary_color': None,\n",
       "  'public': None,\n",
       "  'snapshot_id': 'NzI4NjUyNDgxLDAwMDAwMDAwMDAwMDAwMDAwMDAwMDAwMDAwMDAwMDAwMDAwMDY1NmU=',\n",
       "  'tracks': {'href': 'https://api.spotify.com/v1/playlists/37i9dQZEVXbLRQDuF5jeBp/tracks',\n",
       "   'total': 50},\n",
       "  'type': 'playlist',\n",
       "  'uri': 'spotify:playlist:37i9dQZEVXbLRQDuF5jeBp'},\n",
       " {'collaborative': False,\n",
       "  'description': 'Your daily update of the most played tracks right now - Global.',\n",
       "  'external_urls': {'spotify': 'https://open.spotify.com/playlist/37i9dQZEVXbMDoHDwVN2tF'},\n",
       "  'href': 'https://api.spotify.com/v1/playlists/37i9dQZEVXbMDoHDwVN2tF',\n",
       "  'id': '37i9dQZEVXbMDoHDwVN2tF',\n",
       "  'images': [{'height': None,\n",
       "    'url': 'https://charts-images.scdn.co/assets/locale_en/regional/daily/region_global_large.jpg',\n",
       "    'width': None}],\n",
       "  'name': 'Top 50 - Global',\n",
       "  'owner': {'display_name': 'Spotify',\n",
       "   'external_urls': {'spotify': 'https://open.spotify.com/user/spotify'},\n",
       "   'href': 'https://api.spotify.com/v1/users/spotify',\n",
       "   'id': 'spotify',\n",
       "   'type': 'user',\n",
       "   'uri': 'spotify:user:spotify'},\n",
       "  'primary_color': None,\n",
       "  'public': None,\n",
       "  'snapshot_id': 'NzI4NjUyNDc1LDAwMDAwMDAwMDAwMDAwMDAwMDAwMDAwMDAwMDAwMDAwMDAwMDY1NmU=',\n",
       "  'tracks': {'href': 'https://api.spotify.com/v1/playlists/37i9dQZEVXbMDoHDwVN2tF/tracks',\n",
       "   'total': 50},\n",
       "  'type': 'playlist',\n",
       "  'uri': 'spotify:playlist:37i9dQZEVXbMDoHDwVN2tF'},\n",
       " {'collaborative': False,\n",
       "  'description': 'Your daily update of the most viral tracks right now - Global.',\n",
       "  'external_urls': {'spotify': 'https://open.spotify.com/playlist/37i9dQZEVXbLiRSasKsNU9'},\n",
       "  'href': 'https://api.spotify.com/v1/playlists/37i9dQZEVXbLiRSasKsNU9',\n",
       "  'id': '37i9dQZEVXbLiRSasKsNU9',\n",
       "  'images': [{'height': None,\n",
       "    'url': 'https://charts-images.scdn.co/assets/locale_en/viral/daily/region_global_large.jpg',\n",
       "    'width': None}],\n",
       "  'name': 'Viral 50 - Global',\n",
       "  'owner': {'display_name': 'Spotify',\n",
       "   'external_urls': {'spotify': 'https://open.spotify.com/user/spotify'},\n",
       "   'href': 'https://api.spotify.com/v1/users/spotify',\n",
       "   'id': 'spotify',\n",
       "   'type': 'user',\n",
       "   'uri': 'spotify:user:spotify'},\n",
       "  'primary_color': None,\n",
       "  'public': None,\n",
       "  'snapshot_id': 'NzI4NjU2OTc0LDAwMDAwMDAwMDAwMDAwMDAwMDAwMDAwMDAwMDAwMDAwMDAwMDY1NmU=',\n",
       "  'tracks': {'href': 'https://api.spotify.com/v1/playlists/37i9dQZEVXbLiRSasKsNU9/tracks',\n",
       "   'total': 50},\n",
       "  'type': 'playlist',\n",
       "  'uri': 'spotify:playlist:37i9dQZEVXbLiRSasKsNU9'},\n",
       " {'collaborative': False,\n",
       "  'description': 'Your daily update of the most viral tracks right now - USA.',\n",
       "  'external_urls': {'spotify': 'https://open.spotify.com/playlist/37i9dQZEVXbKuaTI1Z1Afx'},\n",
       "  'href': 'https://api.spotify.com/v1/playlists/37i9dQZEVXbKuaTI1Z1Afx',\n",
       "  'id': '37i9dQZEVXbKuaTI1Z1Afx',\n",
       "  'images': [{'height': None,\n",
       "    'url': 'https://charts-images.scdn.co/assets/locale_en/viral/daily/region_us_large.jpg',\n",
       "    'width': None}],\n",
       "  'name': 'Viral 50 - USA',\n",
       "  'owner': {'display_name': 'Spotify',\n",
       "   'external_urls': {'spotify': 'https://open.spotify.com/user/spotify'},\n",
       "   'href': 'https://api.spotify.com/v1/users/spotify',\n",
       "   'id': 'spotify',\n",
       "   'type': 'user',\n",
       "   'uri': 'spotify:user:spotify'},\n",
       "  'primary_color': None,\n",
       "  'public': None,\n",
       "  'snapshot_id': 'NzI4NjU2OTgzLDAwMDAwMDAwMDAwMDAwMDAwMDAwMDAwMDAwMDAwMDAwMDAwMDY1NmU=',\n",
       "  'tracks': {'href': 'https://api.spotify.com/v1/playlists/37i9dQZEVXbKuaTI1Z1Afx/tracks',\n",
       "   'total': 50},\n",
       "  'type': 'playlist',\n",
       "  'uri': 'spotify:playlist:37i9dQZEVXbKuaTI1Z1Afx'},\n",
       " {'collaborative': False,\n",
       "  'description': 'New music from Sam Smith, ROSALÍA, Zach Bryan & Maggie Rogers, Lil Yachty and more!',\n",
       "  'external_urls': {'spotify': 'https://open.spotify.com/playlist/37i9dQZF1DX4JAvHpjipBk'},\n",
       "  'href': 'https://api.spotify.com/v1/playlists/37i9dQZF1DX4JAvHpjipBk',\n",
       "  'id': '37i9dQZF1DX4JAvHpjipBk',\n",
       "  'images': [{'height': None,\n",
       "    'url': 'https://i.scdn.co/image/ab67706f00000003290e733163c8b52492317ff8',\n",
       "    'width': None}],\n",
       "  'name': 'New Music Friday',\n",
       "  'owner': {'display_name': 'Spotify',\n",
       "   'external_urls': {'spotify': 'https://open.spotify.com/user/spotify'},\n",
       "   'href': 'https://api.spotify.com/v1/users/spotify',\n",
       "   'id': 'spotify',\n",
       "   'type': 'user',\n",
       "   'uri': 'spotify:user:spotify'},\n",
       "  'primary_color': None,\n",
       "  'public': None,\n",
       "  'snapshot_id': 'MTY3NDg0MTY2MywwMDAwMDAwMGM2MDg2YWU4YTVkOTU0ZWQzZjc4MzhiNDM0YTEzMWMw',\n",
       "  'tracks': {'href': 'https://api.spotify.com/v1/playlists/37i9dQZF1DX4JAvHpjipBk/tracks',\n",
       "   'total': 104},\n",
       "  'type': 'playlist',\n",
       "  'uri': 'spotify:playlist:37i9dQZF1DX4JAvHpjipBk'}]"
      ]
     },
     "execution_count": 50,
     "metadata": {},
     "output_type": "execute_result"
    }
   ],
   "source": [
    "sp.category_playlists(top_list)['playlists']['items']"
   ]
  },
  {
   "cell_type": "code",
   "execution_count": 146,
   "metadata": {},
   "outputs": [
    {
     "data": {
      "text/plain": [
       "12"
      ]
     },
     "execution_count": 146,
     "metadata": {},
     "output_type": "execute_result"
    }
   ],
   "source": [
    "len(sp.category_playlists(top_list)['playlists']['items'])"
   ]
  },
  {
   "attachments": {},
   "cell_type": "markdown",
   "metadata": {},
   "source": [
    "#### Different keys of the first playlist in the top playlists"
   ]
  },
  {
   "cell_type": "code",
   "execution_count": 7,
   "metadata": {},
   "outputs": [
    {
     "data": {
      "text/plain": [
       "dict_keys(['collaborative', 'description', 'external_urls', 'href', 'id', 'images', 'name', 'owner', 'primary_color', 'public', 'snapshot_id', 'tracks', 'type', 'uri'])"
      ]
     },
     "execution_count": 7,
     "metadata": {},
     "output_type": "execute_result"
    }
   ],
   "source": [
    "sp.category_playlists(top_list)['playlists']['items'][0].keys()"
   ]
  },
  {
   "cell_type": "code",
   "execution_count": 12,
   "metadata": {},
   "outputs": [
    {
     "data": {
      "text/plain": [
       "{'href': 'https://api.spotify.com/v1/playlists/37i9dQZF1DXcBWIGoYBM5M/tracks',\n",
       " 'total': 50}"
      ]
     },
     "execution_count": 12,
     "metadata": {},
     "output_type": "execute_result"
    }
   ],
   "source": [
    "sp.category_playlists(top_list)['playlists']['items'][0]['tracks']"
   ]
  },
  {
   "cell_type": "code",
   "execution_count": 54,
   "metadata": {},
   "outputs": [],
   "source": [
    "playlist_tracks_uri = sp.category_playlists(top_list)['playlists']['items'][0]['tracks']['href'].split('/')[5]"
   ]
  },
  {
   "attachments": {},
   "cell_type": "markdown",
   "metadata": {},
   "source": [
    "#### Pulling the string before \"/tracks\" and after \"playlists/\", is the URI needed to pull the playlist track info"
   ]
  },
  {
   "cell_type": "code",
   "execution_count": 69,
   "metadata": {},
   "outputs": [
    {
     "data": {
      "text/plain": [
       "{'added_at': '2023-01-30T16:51:24Z',\n",
       " 'added_by': {'external_urls': {'spotify': 'https://open.spotify.com/user/'},\n",
       "  'href': 'https://api.spotify.com/v1/users/',\n",
       "  'id': '',\n",
       "  'type': 'user',\n",
       "  'uri': 'spotify:user:'},\n",
       " 'is_local': False,\n",
       " 'primary_color': None,\n",
       " 'track': {'album': {'album_type': 'single',\n",
       "   'artists': [{'external_urls': {'spotify': 'https://open.spotify.com/artist/5YGY8feqx7naU7z4HrwZM6'},\n",
       "     'href': 'https://api.spotify.com/v1/artists/5YGY8feqx7naU7z4HrwZM6',\n",
       "     'id': '5YGY8feqx7naU7z4HrwZM6',\n",
       "     'name': 'Miley Cyrus',\n",
       "     'type': 'artist',\n",
       "     'uri': 'spotify:artist:5YGY8feqx7naU7z4HrwZM6'}],\n",
       "   'available_markets': ['AD',\n",
       "    'AE',\n",
       "    'AG',\n",
       "    'AL',\n",
       "    'AM',\n",
       "    'AO',\n",
       "    'AR',\n",
       "    'AT',\n",
       "    'AU',\n",
       "    'AZ',\n",
       "    'BA',\n",
       "    'BB',\n",
       "    'BD',\n",
       "    'BE',\n",
       "    'BF',\n",
       "    'BG',\n",
       "    'BH',\n",
       "    'BI',\n",
       "    'BJ',\n",
       "    'BN',\n",
       "    'BO',\n",
       "    'BR',\n",
       "    'BS',\n",
       "    'BT',\n",
       "    'BW',\n",
       "    'BY',\n",
       "    'BZ',\n",
       "    'CA',\n",
       "    'CD',\n",
       "    'CG',\n",
       "    'CH',\n",
       "    'CI',\n",
       "    'CL',\n",
       "    'CM',\n",
       "    'CO',\n",
       "    'CR',\n",
       "    'CV',\n",
       "    'CW',\n",
       "    'CY',\n",
       "    'CZ',\n",
       "    'DE',\n",
       "    'DJ',\n",
       "    'DK',\n",
       "    'DM',\n",
       "    'DO',\n",
       "    'DZ',\n",
       "    'EC',\n",
       "    'EE',\n",
       "    'EG',\n",
       "    'ES',\n",
       "    'ET',\n",
       "    'FI',\n",
       "    'FJ',\n",
       "    'FM',\n",
       "    'FR',\n",
       "    'GA',\n",
       "    'GB',\n",
       "    'GD',\n",
       "    'GE',\n",
       "    'GH',\n",
       "    'GM',\n",
       "    'GN',\n",
       "    'GQ',\n",
       "    'GR',\n",
       "    'GT',\n",
       "    'GW',\n",
       "    'GY',\n",
       "    'HK',\n",
       "    'HN',\n",
       "    'HR',\n",
       "    'HT',\n",
       "    'HU',\n",
       "    'ID',\n",
       "    'IE',\n",
       "    'IL',\n",
       "    'IN',\n",
       "    'IQ',\n",
       "    'IS',\n",
       "    'IT',\n",
       "    'JM',\n",
       "    'JO',\n",
       "    'JP',\n",
       "    'KE',\n",
       "    'KG',\n",
       "    'KH',\n",
       "    'KI',\n",
       "    'KM',\n",
       "    'KN',\n",
       "    'KR',\n",
       "    'KW',\n",
       "    'KZ',\n",
       "    'LA',\n",
       "    'LB',\n",
       "    'LC',\n",
       "    'LI',\n",
       "    'LK',\n",
       "    'LR',\n",
       "    'LS',\n",
       "    'LT',\n",
       "    'LU',\n",
       "    'LV',\n",
       "    'LY',\n",
       "    'MA',\n",
       "    'MC',\n",
       "    'MD',\n",
       "    'ME',\n",
       "    'MG',\n",
       "    'MH',\n",
       "    'MK',\n",
       "    'ML',\n",
       "    'MN',\n",
       "    'MO',\n",
       "    'MR',\n",
       "    'MT',\n",
       "    'MU',\n",
       "    'MV',\n",
       "    'MW',\n",
       "    'MX',\n",
       "    'MY',\n",
       "    'MZ',\n",
       "    'NA',\n",
       "    'NE',\n",
       "    'NG',\n",
       "    'NI',\n",
       "    'NL',\n",
       "    'NO',\n",
       "    'NP',\n",
       "    'NR',\n",
       "    'NZ',\n",
       "    'OM',\n",
       "    'PA',\n",
       "    'PE',\n",
       "    'PG',\n",
       "    'PH',\n",
       "    'PK',\n",
       "    'PL',\n",
       "    'PS',\n",
       "    'PT',\n",
       "    'PW',\n",
       "    'PY',\n",
       "    'QA',\n",
       "    'RO',\n",
       "    'RS',\n",
       "    'RW',\n",
       "    'SA',\n",
       "    'SB',\n",
       "    'SC',\n",
       "    'SE',\n",
       "    'SG',\n",
       "    'SI',\n",
       "    'SK',\n",
       "    'SL',\n",
       "    'SM',\n",
       "    'SN',\n",
       "    'SR',\n",
       "    'ST',\n",
       "    'SV',\n",
       "    'SZ',\n",
       "    'TD',\n",
       "    'TG',\n",
       "    'TH',\n",
       "    'TJ',\n",
       "    'TL',\n",
       "    'TN',\n",
       "    'TO',\n",
       "    'TR',\n",
       "    'TT',\n",
       "    'TV',\n",
       "    'TW',\n",
       "    'TZ',\n",
       "    'UA',\n",
       "    'UG',\n",
       "    'US',\n",
       "    'UY',\n",
       "    'UZ',\n",
       "    'VC',\n",
       "    'VE',\n",
       "    'VN',\n",
       "    'VU',\n",
       "    'WS',\n",
       "    'XK',\n",
       "    'ZA',\n",
       "    'ZM',\n",
       "    'ZW'],\n",
       "   'external_urls': {'spotify': 'https://open.spotify.com/album/7I0tjwFtxUwBC1vgyeMAax'},\n",
       "   'href': 'https://api.spotify.com/v1/albums/7I0tjwFtxUwBC1vgyeMAax',\n",
       "   'id': '7I0tjwFtxUwBC1vgyeMAax',\n",
       "   'images': [{'height': 640,\n",
       "     'url': 'https://i.scdn.co/image/ab67616d0000b273f429549123dbe8552764ba1d',\n",
       "     'width': 640},\n",
       "    {'height': 300,\n",
       "     'url': 'https://i.scdn.co/image/ab67616d00001e02f429549123dbe8552764ba1d',\n",
       "     'width': 300},\n",
       "    {'height': 64,\n",
       "     'url': 'https://i.scdn.co/image/ab67616d00004851f429549123dbe8552764ba1d',\n",
       "     'width': 64}],\n",
       "   'name': 'Flowers',\n",
       "   'release_date': '2023-01-13',\n",
       "   'release_date_precision': 'day',\n",
       "   'total_tracks': 1,\n",
       "   'type': 'album',\n",
       "   'uri': 'spotify:album:7I0tjwFtxUwBC1vgyeMAax'},\n",
       "  'artists': [{'external_urls': {'spotify': 'https://open.spotify.com/artist/5YGY8feqx7naU7z4HrwZM6'},\n",
       "    'href': 'https://api.spotify.com/v1/artists/5YGY8feqx7naU7z4HrwZM6',\n",
       "    'id': '5YGY8feqx7naU7z4HrwZM6',\n",
       "    'name': 'Miley Cyrus',\n",
       "    'type': 'artist',\n",
       "    'uri': 'spotify:artist:5YGY8feqx7naU7z4HrwZM6'}],\n",
       "  'available_markets': ['AD',\n",
       "   'AE',\n",
       "   'AG',\n",
       "   'AL',\n",
       "   'AM',\n",
       "   'AO',\n",
       "   'AR',\n",
       "   'AT',\n",
       "   'AU',\n",
       "   'AZ',\n",
       "   'BA',\n",
       "   'BB',\n",
       "   'BD',\n",
       "   'BE',\n",
       "   'BF',\n",
       "   'BG',\n",
       "   'BH',\n",
       "   'BI',\n",
       "   'BJ',\n",
       "   'BN',\n",
       "   'BO',\n",
       "   'BR',\n",
       "   'BS',\n",
       "   'BT',\n",
       "   'BW',\n",
       "   'BY',\n",
       "   'BZ',\n",
       "   'CA',\n",
       "   'CD',\n",
       "   'CG',\n",
       "   'CH',\n",
       "   'CI',\n",
       "   'CL',\n",
       "   'CM',\n",
       "   'CO',\n",
       "   'CR',\n",
       "   'CV',\n",
       "   'CW',\n",
       "   'CY',\n",
       "   'CZ',\n",
       "   'DE',\n",
       "   'DJ',\n",
       "   'DK',\n",
       "   'DM',\n",
       "   'DO',\n",
       "   'DZ',\n",
       "   'EC',\n",
       "   'EE',\n",
       "   'EG',\n",
       "   'ES',\n",
       "   'ET',\n",
       "   'FI',\n",
       "   'FJ',\n",
       "   'FM',\n",
       "   'FR',\n",
       "   'GA',\n",
       "   'GB',\n",
       "   'GD',\n",
       "   'GE',\n",
       "   'GH',\n",
       "   'GM',\n",
       "   'GN',\n",
       "   'GQ',\n",
       "   'GR',\n",
       "   'GT',\n",
       "   'GW',\n",
       "   'GY',\n",
       "   'HK',\n",
       "   'HN',\n",
       "   'HR',\n",
       "   'HT',\n",
       "   'HU',\n",
       "   'ID',\n",
       "   'IE',\n",
       "   'IL',\n",
       "   'IN',\n",
       "   'IQ',\n",
       "   'IS',\n",
       "   'IT',\n",
       "   'JM',\n",
       "   'JO',\n",
       "   'JP',\n",
       "   'KE',\n",
       "   'KG',\n",
       "   'KH',\n",
       "   'KI',\n",
       "   'KM',\n",
       "   'KN',\n",
       "   'KR',\n",
       "   'KW',\n",
       "   'KZ',\n",
       "   'LA',\n",
       "   'LB',\n",
       "   'LC',\n",
       "   'LI',\n",
       "   'LK',\n",
       "   'LR',\n",
       "   'LS',\n",
       "   'LT',\n",
       "   'LU',\n",
       "   'LV',\n",
       "   'LY',\n",
       "   'MA',\n",
       "   'MC',\n",
       "   'MD',\n",
       "   'ME',\n",
       "   'MG',\n",
       "   'MH',\n",
       "   'MK',\n",
       "   'ML',\n",
       "   'MN',\n",
       "   'MO',\n",
       "   'MR',\n",
       "   'MT',\n",
       "   'MU',\n",
       "   'MV',\n",
       "   'MW',\n",
       "   'MX',\n",
       "   'MY',\n",
       "   'MZ',\n",
       "   'NA',\n",
       "   'NE',\n",
       "   'NG',\n",
       "   'NI',\n",
       "   'NL',\n",
       "   'NO',\n",
       "   'NP',\n",
       "   'NR',\n",
       "   'NZ',\n",
       "   'OM',\n",
       "   'PA',\n",
       "   'PE',\n",
       "   'PG',\n",
       "   'PH',\n",
       "   'PK',\n",
       "   'PL',\n",
       "   'PS',\n",
       "   'PT',\n",
       "   'PW',\n",
       "   'PY',\n",
       "   'QA',\n",
       "   'RO',\n",
       "   'RS',\n",
       "   'RW',\n",
       "   'SA',\n",
       "   'SB',\n",
       "   'SC',\n",
       "   'SE',\n",
       "   'SG',\n",
       "   'SI',\n",
       "   'SK',\n",
       "   'SL',\n",
       "   'SM',\n",
       "   'SN',\n",
       "   'SR',\n",
       "   'ST',\n",
       "   'SV',\n",
       "   'SZ',\n",
       "   'TD',\n",
       "   'TG',\n",
       "   'TH',\n",
       "   'TJ',\n",
       "   'TL',\n",
       "   'TN',\n",
       "   'TO',\n",
       "   'TR',\n",
       "   'TT',\n",
       "   'TV',\n",
       "   'TW',\n",
       "   'TZ',\n",
       "   'UA',\n",
       "   'UG',\n",
       "   'US',\n",
       "   'UY',\n",
       "   'UZ',\n",
       "   'VC',\n",
       "   'VE',\n",
       "   'VN',\n",
       "   'VU',\n",
       "   'WS',\n",
       "   'XK',\n",
       "   'ZA',\n",
       "   'ZM',\n",
       "   'ZW'],\n",
       "  'disc_number': 1,\n",
       "  'duration_ms': 200454,\n",
       "  'episode': False,\n",
       "  'explicit': False,\n",
       "  'external_ids': {'isrc': 'USSM12209777'},\n",
       "  'external_urls': {'spotify': 'https://open.spotify.com/track/0yLdNVWF3Srea0uzk55zFn'},\n",
       "  'href': 'https://api.spotify.com/v1/tracks/0yLdNVWF3Srea0uzk55zFn',\n",
       "  'id': '0yLdNVWF3Srea0uzk55zFn',\n",
       "  'is_local': False,\n",
       "  'name': 'Flowers',\n",
       "  'popularity': 100,\n",
       "  'preview_url': 'https://p.scdn.co/mp3-preview/10c175a4e8fd1c3872326a60b57dadaf77afbe44?cid=9676044f37b24fdca6571844ae8ea9a5',\n",
       "  'track': True,\n",
       "  'track_number': 1,\n",
       "  'type': 'track',\n",
       "  'uri': 'spotify:track:0yLdNVWF3Srea0uzk55zFn'},\n",
       " 'video_thumbnail': {'url': None}}"
      ]
     },
     "execution_count": 69,
     "metadata": {},
     "output_type": "execute_result"
    }
   ],
   "source": [
    "sp.playlist_items(playlist_tracks_uri)['items'][0]"
   ]
  },
  {
   "cell_type": "code",
   "execution_count": 79,
   "metadata": {},
   "outputs": [
    {
     "data": {
      "text/plain": [
       "'Miley Cyrus'"
      ]
     },
     "execution_count": 79,
     "metadata": {},
     "output_type": "execute_result"
    }
   ],
   "source": [
    "sp.playlist_items(playlist_tracks_uri)['items'][0]['track']['artists'][0]['name']"
   ]
  },
  {
   "cell_type": "code",
   "execution_count": 90,
   "metadata": {},
   "outputs": [
    {
     "data": {
      "text/html": [
       "<div>\n",
       "<style scoped>\n",
       "    .dataframe tbody tr th:only-of-type {\n",
       "        vertical-align: middle;\n",
       "    }\n",
       "\n",
       "    .dataframe tbody tr th {\n",
       "        vertical-align: top;\n",
       "    }\n",
       "\n",
       "    .dataframe thead th {\n",
       "        text-align: right;\n",
       "    }\n",
       "</style>\n",
       "<table border=\"1\" class=\"dataframe\">\n",
       "  <thead>\n",
       "    <tr style=\"text-align: right;\">\n",
       "      <th></th>\n",
       "      <th>1</th>\n",
       "    </tr>\n",
       "  </thead>\n",
       "  <tbody>\n",
       "    <tr>\n",
       "      <th>0</th>\n",
       "      <td>one</td>\n",
       "    </tr>\n",
       "    <tr>\n",
       "      <th>1</th>\n",
       "      <td>two</td>\n",
       "    </tr>\n",
       "    <tr>\n",
       "      <th>2</th>\n",
       "      <td>three</td>\n",
       "    </tr>\n",
       "  </tbody>\n",
       "</table>\n",
       "</div>"
      ],
      "text/plain": [
       "       1\n",
       "0    one\n",
       "1    two\n",
       "2  three"
      ]
     },
     "execution_count": 90,
     "metadata": {},
     "output_type": "execute_result"
    }
   ],
   "source": [
    "d_test = {1:['one','two','three']}\n",
    "\n",
    "pd.DataFrame.from_dict(data=d_test)"
   ]
  },
  {
   "cell_type": "code",
   "execution_count": 107,
   "metadata": {},
   "outputs": [
    {
     "data": {
      "text/plain": [
       "'Sam Smith'"
      ]
     },
     "execution_count": 107,
     "metadata": {},
     "output_type": "execute_result"
    }
   ],
   "source": [
    "sp.playlist_items(playlist_track_uri)['items'][0]['track']['artists'][0]['name']"
   ]
  },
  {
   "cell_type": "code",
   "execution_count": 110,
   "metadata": {},
   "outputs": [
    {
     "name": "stdout",
     "output_type": "stream",
     "text": [
      "37i9dQZF1DXcBWIGoYBM5M\n",
      "37i9dQZF1DX0XUsuxWHRQd\n",
      "37i9dQZF1DXcF6B6QPhFDv\n",
      "37i9dQZF1DX4dyzvuaRJ0n\n",
      "37i9dQZF1DX1lVhptIYRda\n",
      "37i9dQZF1DX10zKzsJ2jva\n",
      "37i9dQZF1DX4SBhb3fqCJd\n",
      "37i9dQZEVXbLRQDuF5jeBp\n",
      "37i9dQZEVXbMDoHDwVN2tF\n",
      "37i9dQZEVXbLiRSasKsNU9\n",
      "37i9dQZEVXbKuaTI1Z1Afx\n",
      "37i9dQZF1DX4JAvHpjipBk\n"
     ]
    }
   ],
   "source": [
    "d = {}\n",
    "l = []\n",
    "song_count = 0\n",
    "\n",
    "for playlist in sp.category_playlists(top_list)['playlists']['items']:\n",
    "    playlist_track_uri = playlist['tracks']['href'].split('/')[5]\n",
    "    \n",
    "    print(playlist_track_uri)\n",
    "    for track in sp.playlist_items(playlist_track_uri)['items']:\n",
    "        track_info = track['track']\n",
    "        first_artist_info = track_info['artists'][0]\n",
    "        first_artist_info_name = first_artist_info['name']\n",
    "\n",
    "        l.append(first_artist_info_name)\n",
    "        song_count += 1\n",
    "\n",
    "d['artist'] = l\n",
    "song_df = pd.DataFrame.from_dict(data=d)"
   ]
  },
  {
   "cell_type": "code",
   "execution_count": 109,
   "metadata": {},
   "outputs": [
    {
     "data": {
      "text/plain": [
       "SZA             17\n",
       "Metro Boomin    11\n",
       "NewJeans         9\n",
       "Sam Smith        8\n",
       "d4vd             7\n",
       "                ..\n",
       "Bicep            1\n",
       "Jamie xx         1\n",
       "Regard           1\n",
       "MEDUZA           1\n",
       "BAYBE            1\n",
       "Name: artist, Length: 448, dtype: int64"
      ]
     },
     "execution_count": 109,
     "metadata": {},
     "output_type": "execute_result"
    }
   ],
   "source": [
    "song_df['artist'].value_counts()"
   ]
  },
  {
   "cell_type": "code",
   "execution_count": 111,
   "metadata": {},
   "outputs": [
    {
     "data": {
      "text/plain": [
       "680"
      ]
     },
     "execution_count": 111,
     "metadata": {},
     "output_type": "execute_result"
    }
   ],
   "source": [
    "song_count"
   ]
  },
  {
   "cell_type": "code",
   "execution_count": 114,
   "metadata": {},
   "outputs": [
    {
     "data": {
      "text/plain": [
       "{'collaborative': False,\n",
       " 'description': 'Music from Metro Boomin, DaBaby and Rae Sremmurd. ',\n",
       " 'external_urls': {'spotify': 'https://open.spotify.com/playlist/37i9dQZF1DX0XUsuxWHRQd'},\n",
       " 'href': 'https://api.spotify.com/v1/playlists/37i9dQZF1DX0XUsuxWHRQd',\n",
       " 'id': '37i9dQZF1DX0XUsuxWHRQd',\n",
       " 'images': [{'height': None,\n",
       "   'url': 'https://i.scdn.co/image/ab67706f00000003d9a28961c33c1abc19818a1f',\n",
       "   'width': None}],\n",
       " 'name': 'RapCaviar',\n",
       " 'owner': {'display_name': 'Spotify',\n",
       "  'external_urls': {'spotify': 'https://open.spotify.com/user/spotify'},\n",
       "  'href': 'https://api.spotify.com/v1/users/spotify',\n",
       "  'id': 'spotify',\n",
       "  'type': 'user',\n",
       "  'uri': 'spotify:user:spotify'},\n",
       " 'primary_color': None,\n",
       " 'public': None,\n",
       " 'snapshot_id': 'MTY3NTMxNDAwMCwwMDAwMDAwMDJkYmExMTM5NTFkNjVkNmM1NWYzZDRkMGUzNjk1YzFi',\n",
       " 'tracks': {'href': 'https://api.spotify.com/v1/playlists/37i9dQZF1DX0XUsuxWHRQd/tracks',\n",
       "  'total': 51},\n",
       " 'type': 'playlist',\n",
       " 'uri': 'spotify:playlist:37i9dQZF1DX0XUsuxWHRQd'}"
      ]
     },
     "execution_count": 114,
     "metadata": {},
     "output_type": "execute_result"
    }
   ],
   "source": [
    "sp.category_playlists(top_list)['playlists']['items'][1]"
   ]
  },
  {
   "cell_type": "code",
   "execution_count": null,
   "metadata": {},
   "outputs": [],
   "source": []
  }
 ],
 "metadata": {
  "kernelspec": {
   "display_name": "spotify_summarizer",
   "language": "python",
   "name": "python3"
  },
  "language_info": {
   "codemirror_mode": {
    "name": "ipython",
    "version": 3
   },
   "file_extension": ".py",
   "mimetype": "text/x-python",
   "name": "python",
   "nbconvert_exporter": "python",
   "pygments_lexer": "ipython3",
   "version": "3.10.4"
  },
  "orig_nbformat": 4,
  "vscode": {
   "interpreter": {
    "hash": "383791423988fac0044472cbfa675313e676ffedf1a9d67e3ee1922b69fc4540"
   }
  }
 },
 "nbformat": 4,
 "nbformat_minor": 2
}
