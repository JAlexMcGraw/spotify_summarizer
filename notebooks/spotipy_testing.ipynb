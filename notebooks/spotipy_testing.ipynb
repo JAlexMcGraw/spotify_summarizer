{
 "cells": [
  {
   "attachments": {},
   "cell_type": "markdown",
   "metadata": {},
   "source": [
    "### Based on this article\n",
    "https://towardsdatascience.com/extracting-song-data-from-the-spotify-api-using-python-b1e79388d50"
   ]
  },
  {
   "cell_type": "code",
   "execution_count": 1,
   "metadata": {},
   "outputs": [],
   "source": [
    "import spotipy\n",
    "from spotipy.oauth2 import SpotifyClientCredentials\n",
    "import pandas as pd"
   ]
  },
  {
   "cell_type": "code",
   "execution_count": 2,
   "metadata": {},
   "outputs": [],
   "source": [
    "with open('../hide/client_id.txt') as f:\n",
    "    client_id = f.read()\n",
    "\n",
    "with open('../hide/client_password.txt') as f:\n",
    "    client_password = f.read()"
   ]
  },
  {
   "cell_type": "code",
   "execution_count": 3,
   "metadata": {},
   "outputs": [],
   "source": [
    "#Authentication - without user\n",
    "client_credentials_manager = SpotifyClientCredentials(client_id=client_id, client_secret=client_password)\n",
    "sp = spotipy.Spotify(client_credentials_manager = client_credentials_manager)"
   ]
  },
  {
   "cell_type": "code",
   "execution_count": 4,
   "metadata": {},
   "outputs": [],
   "source": [
    "playlist_link = \"https://open.spotify.com/playlist/37i9dQZEVXbNG2KDcFcKOF?si=1333723a6eff4b7f\"\n",
    "playlist_URI = playlist_link.split(\"/\")[-1].split(\"?\")[0]\n",
    "track_uris = [x[\"track\"][\"uri\"] for x in sp.playlist_tracks(playlist_URI)[\"items\"]]"
   ]
  },
  {
   "cell_type": "code",
   "execution_count": 5,
   "metadata": {},
   "outputs": [],
   "source": [
    "for track in sp.playlist_tracks(playlist_URI)[\"items\"]:\n",
    "    #URI\n",
    "    track_uri = track[\"track\"][\"uri\"]\n",
    "    \n",
    "    #Track name\n",
    "    track_name = track[\"track\"][\"name\"]\n",
    "    \n",
    "    #Main Artist\n",
    "    artist_uri = track[\"track\"][\"artists\"][0][\"uri\"]\n",
    "    artist_info = sp.artist(artist_uri)\n",
    "    \n",
    "    #Name, popularity, genre\n",
    "    artist_name = track[\"track\"][\"artists\"][0][\"name\"]\n",
    "    artist_pop = artist_info[\"popularity\"]\n",
    "    artist_genres = artist_info[\"genres\"]\n",
    "    \n",
    "    #Album\n",
    "    album = track[\"track\"][\"album\"][\"name\"]\n",
    "    \n",
    "    #Popularity of the track\n",
    "    track_pop = track[\"track\"][\"popularity\"]"
   ]
  },
  {
   "cell_type": "code",
   "execution_count": 6,
   "metadata": {},
   "outputs": [
    {
     "data": {
      "text/plain": [
       "{'danceability': 0.733,\n",
       " 'energy': 0.69,\n",
       " 'key': 9,\n",
       " 'loudness': -5.529,\n",
       " 'mode': 0,\n",
       " 'speechiness': 0.0427,\n",
       " 'acousticness': 0.0635,\n",
       " 'instrumentalness': 1.18e-06,\n",
       " 'liveness': 0.105,\n",
       " 'valence': 0.31,\n",
       " 'tempo': 116.992,\n",
       " 'type': 'audio_features',\n",
       " 'id': '5IgjP7X4th6nMNDh4akUHb',\n",
       " 'uri': 'spotify:track:5IgjP7X4th6nMNDh4akUHb',\n",
       " 'track_href': 'https://api.spotify.com/v1/tracks/5IgjP7X4th6nMNDh4akUHb',\n",
       " 'analysis_url': 'https://api.spotify.com/v1/audio-analysis/5IgjP7X4th6nMNDh4akUHb',\n",
       " 'duration_ms': 184613,\n",
       " 'time_signature': 4}"
      ]
     },
     "execution_count": 6,
     "metadata": {},
     "output_type": "execute_result"
    }
   ],
   "source": [
    "sp.audio_features(track_uri)[0]"
   ]
  },
  {
   "attachments": {},
   "cell_type": "markdown",
   "metadata": {},
   "source": [
    "------------------"
   ]
  },
  {
   "attachments": {},
   "cell_type": "markdown",
   "metadata": {},
   "source": [
    "https://spotipy.readthedocs.io/en/latest/"
   ]
  },
  {
   "cell_type": "code",
   "execution_count": 7,
   "metadata": {},
   "outputs": [
    {
     "name": "stdout",
     "output_type": "stream",
     "text": [
      "Young Heart\n",
      "Beautiful Lies\n",
      "Beautiful Lies\n",
      "Beautiful Lies (Deluxe)\n",
      "Beautiful Lies (Deluxe)\n",
      "Fire Within\n",
      "Fire Within\n",
      "Fire Within (Deluxe)\n",
      "Fire Within (Deluxe)\n",
      "Fire Within (Deluxe)\n",
      "Live in London\n",
      "Birdy\n",
      "Birdy\n",
      "Birdy\n",
      "Birdy\n",
      "Birdy (Deluxe Version)\n"
     ]
    }
   ],
   "source": [
    "birdy_uri = 'spotify:artist:2WX2uTcsvV5OnS0inACecP'\n",
    "client_credentials_manager = SpotifyClientCredentials(client_id=client_id, client_secret=client_password)\n",
    "spotify = spotipy.Spotify(client_credentials_manager = client_credentials_manager)\n",
    "\n",
    "results = spotify.artist_albums(birdy_uri, album_type='album')\n",
    "albums = results['items']\n",
    "while results['next']:\n",
    "    results = spotify.next(results)\n",
    "    albums.extend(results['items'])\n",
    "\n",
    "for album in albums:\n",
    "    print(album['name'])"
   ]
  },
  {
   "attachments": {},
   "cell_type": "markdown",
   "metadata": {},
   "source": [
    "----------------"
   ]
  },
  {
   "attachments": {},
   "cell_type": "markdown",
   "metadata": {},
   "source": [
    "### Maneskin RUSH album"
   ]
  },
  {
   "cell_type": "code",
   "execution_count": 8,
   "metadata": {},
   "outputs": [],
   "source": [
    "rush_maneskin = sp.album(album_id='https://open.spotify.com/album/2KUaR4K36tSliwAoUA1gcs')"
   ]
  },
  {
   "cell_type": "code",
   "execution_count": 9,
   "metadata": {},
   "outputs": [
    {
     "data": {
      "text/plain": [
       "17"
      ]
     },
     "execution_count": 9,
     "metadata": {},
     "output_type": "execute_result"
    }
   ],
   "source": [
    "len(rush_maneskin['tracks']['items'])"
   ]
  },
  {
   "cell_type": "code",
   "execution_count": 10,
   "metadata": {},
   "outputs": [
    {
     "data": {
      "text/plain": [
       "184"
      ]
     },
     "execution_count": 10,
     "metadata": {},
     "output_type": "execute_result"
    }
   ],
   "source": [
    "len(sp.available_markets()['markets'])"
   ]
  },
  {
   "cell_type": "code",
   "execution_count": 11,
   "metadata": {},
   "outputs": [],
   "source": [
    "countries = sp.available_markets()['markets']"
   ]
  },
  {
   "attachments": {},
   "cell_type": "markdown",
   "metadata": {},
   "source": [
    "#### Album track list"
   ]
  },
  {
   "cell_type": "code",
   "execution_count": 12,
   "metadata": {},
   "outputs": [
    {
     "name": "stdout",
     "output_type": "stream",
     "text": [
      "OWN MY MIND\n",
      "GOSSIP (feat. Tom Morello)\n",
      "TIMEZONE\n",
      "BLA BLA BLA\n",
      "BABY SAID\n",
      "GASOLINE\n",
      "FEEL\n",
      "DON'T WANNA SLEEP\n",
      "KOOL KIDS\n",
      "IF NOT FOR YOU\n",
      "READ YOUR DIARY\n",
      "MARK CHAPMAN\n",
      "LA FINE\n",
      "IL DONO DELLA VITA\n",
      "MAMMAMIA\n",
      "SUPERMODEL\n",
      "THE LONELIEST\n"
     ]
    }
   ],
   "source": [
    "for track in rush_maneskin['tracks']['items']:\n",
    "    print(track['name'])"
   ]
  },
  {
   "cell_type": "code",
   "execution_count": 13,
   "metadata": {},
   "outputs": [
    {
     "data": {
      "text/plain": [
       "dict_keys(['href', 'items', 'limit', 'next', 'offset', 'previous', 'total'])"
      ]
     },
     "execution_count": 13,
     "metadata": {},
     "output_type": "execute_result"
    }
   ],
   "source": [
    "sp.album_tracks('https://open.spotify.com/album/2KUaR4K36tSliwAoUA1gcs').keys()"
   ]
  },
  {
   "attachments": {},
   "cell_type": "markdown",
   "metadata": {},
   "source": [
    "#### First track on the album (OWN MY MIND)"
   ]
  },
  {
   "cell_type": "code",
   "execution_count": 14,
   "metadata": {},
   "outputs": [
    {
     "data": {
      "text/plain": [
       "dict_keys(['artists', 'available_markets', 'disc_number', 'duration_ms', 'explicit', 'external_urls', 'href', 'id', 'is_local', 'name', 'preview_url', 'track_number', 'type', 'uri'])"
      ]
     },
     "execution_count": 14,
     "metadata": {},
     "output_type": "execute_result"
    }
   ],
   "source": [
    "sp.album_tracks('https://open.spotify.com/album/2KUaR4K36tSliwAoUA1gcs')['items'][0].keys()"
   ]
  },
  {
   "attachments": {},
   "cell_type": "markdown",
   "metadata": {},
   "source": [
    "#### Finding the first related artist of Maneskin"
   ]
  },
  {
   "cell_type": "code",
   "execution_count": 15,
   "metadata": {},
   "outputs": [
    {
     "data": {
      "text/plain": [
       "{'external_urls': {'spotify': 'https://open.spotify.com/artist/06nvjg4wBANK6DCHjqtPNd'},\n",
       " 'followers': {'href': None, 'total': 1184190},\n",
       " 'genres': ['italian pop'],\n",
       " 'href': 'https://api.spotify.com/v1/artists/06nvjg4wBANK6DCHjqtPNd',\n",
       " 'id': '06nvjg4wBANK6DCHjqtPNd',\n",
       " 'images': [{'height': 640,\n",
       "   'url': 'https://i.scdn.co/image/ab6761610000e5eb2bd7fdff48b55220c01dd60c',\n",
       "   'width': 640},\n",
       "  {'height': 320,\n",
       "   'url': 'https://i.scdn.co/image/ab676161000051742bd7fdff48b55220c01dd60c',\n",
       "   'width': 320},\n",
       "  {'height': 160,\n",
       "   'url': 'https://i.scdn.co/image/ab6761610000f1782bd7fdff48b55220c01dd60c',\n",
       "   'width': 160}],\n",
       " 'name': 'Mahmood',\n",
       " 'popularity': 64,\n",
       " 'type': 'artist',\n",
       " 'uri': 'spotify:artist:06nvjg4wBANK6DCHjqtPNd'}"
      ]
     },
     "execution_count": 15,
     "metadata": {},
     "output_type": "execute_result"
    }
   ],
   "source": [
    "sp.artist_related_artists('https://open.spotify.com/artist/0lAWpj5szCSwM4rUMHYmrr')['artists'][0]"
   ]
  },
  {
   "attachments": {},
   "cell_type": "markdown",
   "metadata": {},
   "source": [
    "#### General artist info (Maneskin)"
   ]
  },
  {
   "cell_type": "code",
   "execution_count": 16,
   "metadata": {},
   "outputs": [
    {
     "data": {
      "text/plain": [
       "{'external_urls': {'spotify': 'https://open.spotify.com/artist/0lAWpj5szCSwM4rUMHYmrr'},\n",
       " 'followers': {'href': None, 'total': 6911402},\n",
       " 'genres': ['indie rock italiano', 'italian pop'],\n",
       " 'href': 'https://api.spotify.com/v1/artists/0lAWpj5szCSwM4rUMHYmrr',\n",
       " 'id': '0lAWpj5szCSwM4rUMHYmrr',\n",
       " 'images': [{'height': 640,\n",
       "   'url': 'https://i.scdn.co/image/ab6761610000e5eb734144a8667a0bab0a9b9481',\n",
       "   'width': 640},\n",
       "  {'height': 320,\n",
       "   'url': 'https://i.scdn.co/image/ab67616100005174734144a8667a0bab0a9b9481',\n",
       "   'width': 320},\n",
       "  {'height': 160,\n",
       "   'url': 'https://i.scdn.co/image/ab6761610000f178734144a8667a0bab0a9b9481',\n",
       "   'width': 160}],\n",
       " 'name': 'Måneskin',\n",
       " 'popularity': 85,\n",
       " 'type': 'artist',\n",
       " 'uri': 'spotify:artist:0lAWpj5szCSwM4rUMHYmrr'}"
      ]
     },
     "execution_count": 16,
     "metadata": {},
     "output_type": "execute_result"
    }
   ],
   "source": [
    "sp.artist('https://open.spotify.com/artist/0lAWpj5szCSwM4rUMHYmrr')"
   ]
  },
  {
   "attachments": {},
   "cell_type": "markdown",
   "metadata": {},
   "source": [
    "#### Finding top tracks, and picking countries"
   ]
  },
  {
   "cell_type": "code",
   "execution_count": 17,
   "metadata": {},
   "outputs": [
    {
     "data": {
      "text/plain": [
       "dict_keys(['album', 'artists', 'disc_number', 'duration_ms', 'explicit', 'external_ids', 'external_urls', 'href', 'id', 'is_local', 'is_playable', 'name', 'popularity', 'preview_url', 'track_number', 'type', 'uri'])"
      ]
     },
     "execution_count": 17,
     "metadata": {},
     "output_type": "execute_result"
    }
   ],
   "source": [
    "sp.artist_top_tracks('https://open.spotify.com/artist/0lAWpj5szCSwM4rUMHYmrr', country='IT')['tracks'][0].keys()"
   ]
  },
  {
   "cell_type": "code",
   "execution_count": 18,
   "metadata": {},
   "outputs": [
    {
     "data": {
      "text/plain": [
       "'ZITTI E BUONI'"
      ]
     },
     "execution_count": 18,
     "metadata": {},
     "output_type": "execute_result"
    }
   ],
   "source": [
    "sp.artist_top_tracks('https://open.spotify.com/artist/0lAWpj5szCSwM4rUMHYmrr', country='BI')['tracks'][6]['name']"
   ]
  },
  {
   "attachments": {},
   "cell_type": "markdown",
   "metadata": {},
   "source": [
    "#### Finding top category"
   ]
  },
  {
   "cell_type": "code",
   "execution_count": 19,
   "metadata": {},
   "outputs": [
    {
     "data": {
      "text/plain": [
       "{'href': 'https://api.spotify.com/v1/browse/categories/toplists',\n",
       " 'icons': [{'height': 275,\n",
       "   'url': 'https://t.scdn.co/media/derived/toplists_11160599e6a04ac5d6f2757f5511778f_0_0_275_275.jpg',\n",
       "   'width': 275}],\n",
       " 'id': 'toplists',\n",
       " 'name': 'Top Lists'}"
      ]
     },
     "execution_count": 19,
     "metadata": {},
     "output_type": "execute_result"
    }
   ],
   "source": [
    "sp.categories()['categories']['items'][0]"
   ]
  },
  {
   "cell_type": "code",
   "execution_count": 20,
   "metadata": {},
   "outputs": [],
   "source": [
    "top_list_id = sp.categories()['categories']['items'][0]['id']"
   ]
  },
  {
   "cell_type": "code",
   "execution_count": 21,
   "metadata": {},
   "outputs": [
    {
     "data": {
      "text/plain": [
       "dict_keys(['href', 'items', 'limit', 'next', 'offset', 'previous', 'total'])"
      ]
     },
     "execution_count": 21,
     "metadata": {},
     "output_type": "execute_result"
    }
   ],
   "source": [
    "sp.category_playlists(top_list_id)['playlists'].keys()"
   ]
  },
  {
   "attachments": {},
   "cell_type": "markdown",
   "metadata": {},
   "source": [
    "#### Showing 12 of the \"top lists\" playlists"
   ]
  },
  {
   "cell_type": "code",
   "execution_count": 22,
   "metadata": {},
   "outputs": [],
   "source": [
    "top_list_multiple_playlists = sp.category_playlists(top_list_id)['playlists']['items']"
   ]
  },
  {
   "cell_type": "code",
   "execution_count": 23,
   "metadata": {},
   "outputs": [
    {
     "data": {
      "text/plain": [
       "12"
      ]
     },
     "execution_count": 23,
     "metadata": {},
     "output_type": "execute_result"
    }
   ],
   "source": [
    "len(sp.category_playlists(top_list_id)['playlists']['items'])"
   ]
  },
  {
   "attachments": {},
   "cell_type": "markdown",
   "metadata": {},
   "source": [
    "#### Different keys of the first playlist in the top playlists"
   ]
  },
  {
   "cell_type": "code",
   "execution_count": 24,
   "metadata": {},
   "outputs": [],
   "source": [
    "todays_top_hits_playlist = sp.category_playlists(top_list_id)['playlists']['items'][0]"
   ]
  },
  {
   "cell_type": "code",
   "execution_count": 25,
   "metadata": {},
   "outputs": [
    {
     "data": {
      "text/plain": [
       "dict_keys(['collaborative', 'description', 'external_urls', 'href', 'id', 'images', 'name', 'owner', 'primary_color', 'public', 'snapshot_id', 'tracks', 'type', 'uri'])"
      ]
     },
     "execution_count": 25,
     "metadata": {},
     "output_type": "execute_result"
    }
   ],
   "source": [
    "todays_top_hits_playlist.keys()"
   ]
  },
  {
   "cell_type": "code",
   "execution_count": 26,
   "metadata": {},
   "outputs": [
    {
     "data": {
      "text/plain": [
       "{'href': 'https://api.spotify.com/v1/playlists/37i9dQZF1DXcBWIGoYBM5M/tracks',\n",
       " 'total': 50}"
      ]
     },
     "execution_count": 26,
     "metadata": {},
     "output_type": "execute_result"
    }
   ],
   "source": [
    "todays_top_hits_playlist['tracks']"
   ]
  },
  {
   "cell_type": "code",
   "execution_count": 27,
   "metadata": {},
   "outputs": [
    {
     "data": {
      "text/plain": [
       "'37i9dQZF1DXcBWIGoYBM5M'"
      ]
     },
     "execution_count": 27,
     "metadata": {},
     "output_type": "execute_result"
    }
   ],
   "source": [
    "playlist_tracks_uri = todays_top_hits_playlist['tracks']['href'].split('/')[5]\n",
    "playlist_tracks_uri"
   ]
  },
  {
   "attachments": {},
   "cell_type": "markdown",
   "metadata": {},
   "source": [
    "#### Pulling the string before \"/tracks\" and after \"playlists/\", is the URI needed to pull the playlist track info"
   ]
  },
  {
   "cell_type": "code",
   "execution_count": 28,
   "metadata": {},
   "outputs": [
    {
     "data": {
      "text/plain": [
       "{'added_at': '2023-02-17T05:00:00Z',\n",
       " 'added_by': {'external_urls': {'spotify': 'https://open.spotify.com/user/'},\n",
       "  'href': 'https://api.spotify.com/v1/users/',\n",
       "  'id': '',\n",
       "  'type': 'user',\n",
       "  'uri': 'spotify:user:'},\n",
       " 'is_local': False,\n",
       " 'primary_color': None,\n",
       " 'track': {'album': {'album_type': 'single',\n",
       "   'artists': [{'external_urls': {'spotify': 'https://open.spotify.com/artist/78rUTD7y6Cy67W1RVzYs7t'},\n",
       "     'href': 'https://api.spotify.com/v1/artists/78rUTD7y6Cy67W1RVzYs7t',\n",
       "     'id': '78rUTD7y6Cy67W1RVzYs7t',\n",
       "     'name': 'PinkPantheress',\n",
       "     'type': 'artist',\n",
       "     'uri': 'spotify:artist:78rUTD7y6Cy67W1RVzYs7t'},\n",
       "    {'external_urls': {'spotify': 'https://open.spotify.com/artist/3LZZPxNDGDFVSIPqf4JuEf'},\n",
       "     'href': 'https://api.spotify.com/v1/artists/3LZZPxNDGDFVSIPqf4JuEf',\n",
       "     'id': '3LZZPxNDGDFVSIPqf4JuEf',\n",
       "     'name': 'Ice Spice',\n",
       "     'type': 'artist',\n",
       "     'uri': 'spotify:artist:3LZZPxNDGDFVSIPqf4JuEf'}],\n",
       "   'available_markets': ['AD',\n",
       "    'AE',\n",
       "    'AG',\n",
       "    'AL',\n",
       "    'AM',\n",
       "    'AO',\n",
       "    'AR',\n",
       "    'AT',\n",
       "    'AU',\n",
       "    'AZ',\n",
       "    'BA',\n",
       "    'BB',\n",
       "    'BD',\n",
       "    'BE',\n",
       "    'BF',\n",
       "    'BG',\n",
       "    'BH',\n",
       "    'BI',\n",
       "    'BJ',\n",
       "    'BN',\n",
       "    'BO',\n",
       "    'BR',\n",
       "    'BS',\n",
       "    'BT',\n",
       "    'BW',\n",
       "    'BZ',\n",
       "    'CA',\n",
       "    'CD',\n",
       "    'CG',\n",
       "    'CH',\n",
       "    'CI',\n",
       "    'CL',\n",
       "    'CM',\n",
       "    'CO',\n",
       "    'CR',\n",
       "    'CV',\n",
       "    'CW',\n",
       "    'CY',\n",
       "    'CZ',\n",
       "    'DE',\n",
       "    'DJ',\n",
       "    'DK',\n",
       "    'DM',\n",
       "    'DO',\n",
       "    'DZ',\n",
       "    'EC',\n",
       "    'EE',\n",
       "    'EG',\n",
       "    'ES',\n",
       "    'ET',\n",
       "    'FI',\n",
       "    'FJ',\n",
       "    'FM',\n",
       "    'FR',\n",
       "    'GA',\n",
       "    'GB',\n",
       "    'GD',\n",
       "    'GE',\n",
       "    'GH',\n",
       "    'GM',\n",
       "    'GN',\n",
       "    'GQ',\n",
       "    'GR',\n",
       "    'GT',\n",
       "    'GW',\n",
       "    'GY',\n",
       "    'HK',\n",
       "    'HN',\n",
       "    'HR',\n",
       "    'HT',\n",
       "    'HU',\n",
       "    'ID',\n",
       "    'IE',\n",
       "    'IL',\n",
       "    'IN',\n",
       "    'IQ',\n",
       "    'IS',\n",
       "    'IT',\n",
       "    'JM',\n",
       "    'JO',\n",
       "    'JP',\n",
       "    'KE',\n",
       "    'KG',\n",
       "    'KH',\n",
       "    'KI',\n",
       "    'KM',\n",
       "    'KN',\n",
       "    'KR',\n",
       "    'KW',\n",
       "    'KZ',\n",
       "    'LA',\n",
       "    'LB',\n",
       "    'LC',\n",
       "    'LI',\n",
       "    'LK',\n",
       "    'LR',\n",
       "    'LS',\n",
       "    'LT',\n",
       "    'LU',\n",
       "    'LV',\n",
       "    'LY',\n",
       "    'MA',\n",
       "    'MC',\n",
       "    'MD',\n",
       "    'ME',\n",
       "    'MG',\n",
       "    'MH',\n",
       "    'MK',\n",
       "    'ML',\n",
       "    'MN',\n",
       "    'MO',\n",
       "    'MR',\n",
       "    'MT',\n",
       "    'MU',\n",
       "    'MV',\n",
       "    'MW',\n",
       "    'MX',\n",
       "    'MY',\n",
       "    'MZ',\n",
       "    'NA',\n",
       "    'NE',\n",
       "    'NG',\n",
       "    'NI',\n",
       "    'NL',\n",
       "    'NO',\n",
       "    'NP',\n",
       "    'NR',\n",
       "    'NZ',\n",
       "    'OM',\n",
       "    'PA',\n",
       "    'PE',\n",
       "    'PG',\n",
       "    'PH',\n",
       "    'PK',\n",
       "    'PL',\n",
       "    'PS',\n",
       "    'PT',\n",
       "    'PW',\n",
       "    'PY',\n",
       "    'QA',\n",
       "    'RO',\n",
       "    'RS',\n",
       "    'RW',\n",
       "    'SA',\n",
       "    'SB',\n",
       "    'SC',\n",
       "    'SE',\n",
       "    'SG',\n",
       "    'SI',\n",
       "    'SK',\n",
       "    'SL',\n",
       "    'SM',\n",
       "    'SN',\n",
       "    'SR',\n",
       "    'ST',\n",
       "    'SV',\n",
       "    'SZ',\n",
       "    'TD',\n",
       "    'TG',\n",
       "    'TH',\n",
       "    'TJ',\n",
       "    'TL',\n",
       "    'TN',\n",
       "    'TO',\n",
       "    'TR',\n",
       "    'TT',\n",
       "    'TV',\n",
       "    'TW',\n",
       "    'TZ',\n",
       "    'UA',\n",
       "    'UG',\n",
       "    'US',\n",
       "    'UY',\n",
       "    'UZ',\n",
       "    'VC',\n",
       "    'VE',\n",
       "    'VN',\n",
       "    'VU',\n",
       "    'WS',\n",
       "    'XK',\n",
       "    'ZA',\n",
       "    'ZM',\n",
       "    'ZW'],\n",
       "   'external_urls': {'spotify': 'https://open.spotify.com/album/6cVfHBcp3AdpYY0bBglkLN'},\n",
       "   'href': 'https://api.spotify.com/v1/albums/6cVfHBcp3AdpYY0bBglkLN',\n",
       "   'id': '6cVfHBcp3AdpYY0bBglkLN',\n",
       "   'images': [{'height': 640,\n",
       "     'url': 'https://i.scdn.co/image/ab67616d0000b27342c5ba689b2e7cbc208a8fa7',\n",
       "     'width': 640},\n",
       "    {'height': 300,\n",
       "     'url': 'https://i.scdn.co/image/ab67616d00001e0242c5ba689b2e7cbc208a8fa7',\n",
       "     'width': 300},\n",
       "    {'height': 64,\n",
       "     'url': 'https://i.scdn.co/image/ab67616d0000485142c5ba689b2e7cbc208a8fa7',\n",
       "     'width': 64}],\n",
       "   'name': \"Boy's a liar Pt. 2\",\n",
       "   'release_date': '2023-02-03',\n",
       "   'release_date_precision': 'day',\n",
       "   'total_tracks': 2,\n",
       "   'type': 'album',\n",
       "   'uri': 'spotify:album:6cVfHBcp3AdpYY0bBglkLN'},\n",
       "  'artists': [{'external_urls': {'spotify': 'https://open.spotify.com/artist/78rUTD7y6Cy67W1RVzYs7t'},\n",
       "    'href': 'https://api.spotify.com/v1/artists/78rUTD7y6Cy67W1RVzYs7t',\n",
       "    'id': '78rUTD7y6Cy67W1RVzYs7t',\n",
       "    'name': 'PinkPantheress',\n",
       "    'type': 'artist',\n",
       "    'uri': 'spotify:artist:78rUTD7y6Cy67W1RVzYs7t'},\n",
       "   {'external_urls': {'spotify': 'https://open.spotify.com/artist/3LZZPxNDGDFVSIPqf4JuEf'},\n",
       "    'href': 'https://api.spotify.com/v1/artists/3LZZPxNDGDFVSIPqf4JuEf',\n",
       "    'id': '3LZZPxNDGDFVSIPqf4JuEf',\n",
       "    'name': 'Ice Spice',\n",
       "    'type': 'artist',\n",
       "    'uri': 'spotify:artist:3LZZPxNDGDFVSIPqf4JuEf'}],\n",
       "  'available_markets': ['AR',\n",
       "   'AU',\n",
       "   'AT',\n",
       "   'BE',\n",
       "   'BO',\n",
       "   'BR',\n",
       "   'BG',\n",
       "   'CA',\n",
       "   'CL',\n",
       "   'CO',\n",
       "   'CR',\n",
       "   'CY',\n",
       "   'CZ',\n",
       "   'DK',\n",
       "   'DO',\n",
       "   'DE',\n",
       "   'EC',\n",
       "   'EE',\n",
       "   'SV',\n",
       "   'FI',\n",
       "   'FR',\n",
       "   'GR',\n",
       "   'GT',\n",
       "   'HN',\n",
       "   'HK',\n",
       "   'HU',\n",
       "   'IS',\n",
       "   'IE',\n",
       "   'IT',\n",
       "   'LV',\n",
       "   'LT',\n",
       "   'LU',\n",
       "   'MY',\n",
       "   'MT',\n",
       "   'MX',\n",
       "   'NL',\n",
       "   'NZ',\n",
       "   'NI',\n",
       "   'NO',\n",
       "   'PA',\n",
       "   'PY',\n",
       "   'PE',\n",
       "   'PH',\n",
       "   'PL',\n",
       "   'PT',\n",
       "   'SG',\n",
       "   'SK',\n",
       "   'ES',\n",
       "   'SE',\n",
       "   'CH',\n",
       "   'TW',\n",
       "   'TR',\n",
       "   'UY',\n",
       "   'US',\n",
       "   'GB',\n",
       "   'AD',\n",
       "   'LI',\n",
       "   'MC',\n",
       "   'ID',\n",
       "   'JP',\n",
       "   'TH',\n",
       "   'VN',\n",
       "   'RO',\n",
       "   'IL',\n",
       "   'ZA',\n",
       "   'SA',\n",
       "   'AE',\n",
       "   'BH',\n",
       "   'QA',\n",
       "   'OM',\n",
       "   'KW',\n",
       "   'EG',\n",
       "   'MA',\n",
       "   'DZ',\n",
       "   'TN',\n",
       "   'LB',\n",
       "   'JO',\n",
       "   'PS',\n",
       "   'IN',\n",
       "   'KZ',\n",
       "   'MD',\n",
       "   'UA',\n",
       "   'AL',\n",
       "   'BA',\n",
       "   'HR',\n",
       "   'ME',\n",
       "   'MK',\n",
       "   'RS',\n",
       "   'SI',\n",
       "   'KR',\n",
       "   'BD',\n",
       "   'PK',\n",
       "   'LK',\n",
       "   'GH',\n",
       "   'KE',\n",
       "   'NG',\n",
       "   'TZ',\n",
       "   'UG',\n",
       "   'AG',\n",
       "   'AM',\n",
       "   'BS',\n",
       "   'BB',\n",
       "   'BZ',\n",
       "   'BT',\n",
       "   'BW',\n",
       "   'BF',\n",
       "   'CV',\n",
       "   'CW',\n",
       "   'DM',\n",
       "   'FJ',\n",
       "   'GM',\n",
       "   'GE',\n",
       "   'GD',\n",
       "   'GW',\n",
       "   'GY',\n",
       "   'HT',\n",
       "   'JM',\n",
       "   'KI',\n",
       "   'LS',\n",
       "   'LR',\n",
       "   'MW',\n",
       "   'MV',\n",
       "   'ML',\n",
       "   'MH',\n",
       "   'FM',\n",
       "   'NA',\n",
       "   'NR',\n",
       "   'NE',\n",
       "   'PW',\n",
       "   'PG',\n",
       "   'WS',\n",
       "   'SM',\n",
       "   'ST',\n",
       "   'SN',\n",
       "   'SC',\n",
       "   'SL',\n",
       "   'SB',\n",
       "   'KN',\n",
       "   'LC',\n",
       "   'VC',\n",
       "   'SR',\n",
       "   'TL',\n",
       "   'TO',\n",
       "   'TT',\n",
       "   'TV',\n",
       "   'VU',\n",
       "   'AZ',\n",
       "   'BN',\n",
       "   'BI',\n",
       "   'KH',\n",
       "   'CM',\n",
       "   'TD',\n",
       "   'KM',\n",
       "   'GQ',\n",
       "   'SZ',\n",
       "   'GA',\n",
       "   'GN',\n",
       "   'KG',\n",
       "   'LA',\n",
       "   'MO',\n",
       "   'MR',\n",
       "   'MN',\n",
       "   'NP',\n",
       "   'RW',\n",
       "   'TG',\n",
       "   'UZ',\n",
       "   'ZW',\n",
       "   'BJ',\n",
       "   'MG',\n",
       "   'MU',\n",
       "   'MZ',\n",
       "   'AO',\n",
       "   'CI',\n",
       "   'DJ',\n",
       "   'ZM',\n",
       "   'CD',\n",
       "   'CG',\n",
       "   'IQ',\n",
       "   'LY',\n",
       "   'TJ',\n",
       "   'VE',\n",
       "   'ET',\n",
       "   'XK'],\n",
       "  'disc_number': 1,\n",
       "  'duration_ms': 131013,\n",
       "  'episode': False,\n",
       "  'explicit': False,\n",
       "  'external_ids': {'isrc': 'GBAYE2300015'},\n",
       "  'external_urls': {'spotify': 'https://open.spotify.com/track/6AQbmUe0Qwf5PZnt4HmTXv'},\n",
       "  'href': 'https://api.spotify.com/v1/tracks/6AQbmUe0Qwf5PZnt4HmTXv',\n",
       "  'id': '6AQbmUe0Qwf5PZnt4HmTXv',\n",
       "  'is_local': False,\n",
       "  'name': \"Boy's a liar Pt. 2\",\n",
       "  'popularity': 87,\n",
       "  'preview_url': 'https://p.scdn.co/mp3-preview/eb1571e89783c04e4ac63247be85fd059365151e?cid=9676044f37b24fdca6571844ae8ea9a5',\n",
       "  'track': True,\n",
       "  'track_number': 1,\n",
       "  'type': 'track',\n",
       "  'uri': 'spotify:track:6AQbmUe0Qwf5PZnt4HmTXv'},\n",
       " 'video_thumbnail': {'url': None}}"
      ]
     },
     "execution_count": 28,
     "metadata": {},
     "output_type": "execute_result"
    }
   ],
   "source": [
    "sp.playlist_items(playlist_tracks_uri)['items'][0]"
   ]
  },
  {
   "cell_type": "code",
   "execution_count": 29,
   "metadata": {},
   "outputs": [
    {
     "data": {
      "text/plain": [
       "'spotify:track:6AQbmUe0Qwf5PZnt4HmTXv'"
      ]
     },
     "execution_count": 29,
     "metadata": {},
     "output_type": "execute_result"
    }
   ],
   "source": [
    "sp.playlist_items(playlist_tracks_uri)['items'][0]['track']['uri']"
   ]
  },
  {
   "cell_type": "code",
   "execution_count": 30,
   "metadata": {},
   "outputs": [
    {
     "data": {
      "text/html": [
       "<div>\n",
       "<style scoped>\n",
       "    .dataframe tbody tr th:only-of-type {\n",
       "        vertical-align: middle;\n",
       "    }\n",
       "\n",
       "    .dataframe tbody tr th {\n",
       "        vertical-align: top;\n",
       "    }\n",
       "\n",
       "    .dataframe thead th {\n",
       "        text-align: right;\n",
       "    }\n",
       "</style>\n",
       "<table border=\"1\" class=\"dataframe\">\n",
       "  <thead>\n",
       "    <tr style=\"text-align: right;\">\n",
       "      <th></th>\n",
       "      <th>1</th>\n",
       "    </tr>\n",
       "  </thead>\n",
       "  <tbody>\n",
       "    <tr>\n",
       "      <th>0</th>\n",
       "      <td>one</td>\n",
       "    </tr>\n",
       "    <tr>\n",
       "      <th>1</th>\n",
       "      <td>two</td>\n",
       "    </tr>\n",
       "    <tr>\n",
       "      <th>2</th>\n",
       "      <td>three</td>\n",
       "    </tr>\n",
       "  </tbody>\n",
       "</table>\n",
       "</div>"
      ],
      "text/plain": [
       "       1\n",
       "0    one\n",
       "1    two\n",
       "2  three"
      ]
     },
     "execution_count": 30,
     "metadata": {},
     "output_type": "execute_result"
    }
   ],
   "source": [
    "d_test = {1:['one','two','three']}\n",
    "\n",
    "pd.DataFrame.from_dict(data=d_test)"
   ]
  },
  {
   "cell_type": "code",
   "execution_count": 31,
   "metadata": {},
   "outputs": [
    {
     "data": {
      "text/plain": [
       "{'danceability': 0.696,\n",
       " 'energy': 0.809,\n",
       " 'key': 5,\n",
       " 'loudness': -8.254,\n",
       " 'mode': 1,\n",
       " 'speechiness': 0.05,\n",
       " 'acousticness': 0.252,\n",
       " 'instrumentalness': 0.000128,\n",
       " 'liveness': 0.248,\n",
       " 'valence': 0.857,\n",
       " 'tempo': 132.962,\n",
       " 'type': 'audio_features',\n",
       " 'id': '6AQbmUe0Qwf5PZnt4HmTXv',\n",
       " 'uri': 'spotify:track:6AQbmUe0Qwf5PZnt4HmTXv',\n",
       " 'track_href': 'https://api.spotify.com/v1/tracks/6AQbmUe0Qwf5PZnt4HmTXv',\n",
       " 'analysis_url': 'https://api.spotify.com/v1/audio-analysis/6AQbmUe0Qwf5PZnt4HmTXv',\n",
       " 'duration_ms': 131013,\n",
       " 'time_signature': 4}"
      ]
     },
     "execution_count": 31,
     "metadata": {},
     "output_type": "execute_result"
    }
   ],
   "source": [
    "sp.audio_features(sp.playlist_items(playlist_tracks_uri)['items'][0]['track']['uri'])[0]"
   ]
  },
  {
   "cell_type": "code",
   "execution_count": 32,
   "metadata": {},
   "outputs": [],
   "source": [
    "def audio_features_to_grab(track_uri, list_of_audio_features):\n",
    "    audio_features_to_return = {}\n",
    "    all_audio_features = sp.audio_features(track_uri)[0]\n",
    "\n",
    "    for feature in list_of_audio_features:\n",
    "        audio_features_to_return[feature] = all_audio_features[feature]\n",
    "\n",
    "    return audio_features_to_return"
   ]
  },
  {
   "cell_type": "code",
   "execution_count": 33,
   "metadata": {},
   "outputs": [],
   "source": [
    "di = {1:'one', 2:'two', 3:'three'}\n",
    "\n",
    "audio = audio_features_to_grab(track_uri=sp.playlist_items(playlist_tracks_uri)['items'][0]['track']['uri'],\n",
    "                        list_of_audio_features=['danceability', 'energy', 'loudness','key'])"
   ]
  },
  {
   "cell_type": "code",
   "execution_count": 34,
   "metadata": {},
   "outputs": [
    {
     "data": {
      "text/plain": [
       "'spotify:track:6AQbmUe0Qwf5PZnt4HmTXv'"
      ]
     },
     "execution_count": 34,
     "metadata": {},
     "output_type": "execute_result"
    }
   ],
   "source": [
    "sp.playlist_items(playlist_tracks_uri)['items'][0]['track']['uri']"
   ]
  },
  {
   "cell_type": "code",
   "execution_count": 35,
   "metadata": {},
   "outputs": [
    {
     "data": {
      "text/plain": [
       "dict"
      ]
     },
     "execution_count": 35,
     "metadata": {},
     "output_type": "execute_result"
    }
   ],
   "source": [
    "type(audio)"
   ]
  },
  {
   "cell_type": "code",
   "execution_count": 36,
   "metadata": {},
   "outputs": [
    {
     "name": "stdout",
     "output_type": "stream",
     "text": [
      "{1: 'one', 2: 'two', 3: 'three', 'danceability': 0.696, 'energy': 0.809, 'loudness': -8.254, 'key': 5}\n"
     ]
    }
   ],
   "source": [
    "new_dict = dict(di, **audio)\n",
    "print(new_dict)"
   ]
  },
  {
   "cell_type": "code",
   "execution_count": 37,
   "metadata": {},
   "outputs": [
    {
     "data": {
      "text/plain": [
       "dict_keys(['album', 'artists', 'available_markets', 'disc_number', 'duration_ms', 'episode', 'explicit', 'external_ids', 'external_urls', 'href', 'id', 'is_local', 'name', 'popularity', 'preview_url', 'track', 'track_number', 'type', 'uri'])"
      ]
     },
     "execution_count": 37,
     "metadata": {},
     "output_type": "execute_result"
    }
   ],
   "source": [
    "sp.playlist_items(playlist_tracks_uri)['items'][0]['track'].keys()"
   ]
  },
  {
   "cell_type": "code",
   "execution_count": 38,
   "metadata": {},
   "outputs": [],
   "source": [
    "def get_playlist_track_info(playlist_uri, list_of_audio_features=['danceability','energy','key','loudness','mode','speechiness','acousticness','instrumentalness','liveness','valence','tempo','time_signature']):\n",
    "    d = {}\n",
    "    playlist_items = sp.playlist_items(playlist_uri)['items']\n",
    "    \n",
    "    for track in playlist_items:\n",
    "        track_info = track['track']\n",
    "        track_uri = track_info['uri']\n",
    "        track_name = track_info['name']\n",
    "        track_duration = track_info['duration_ms']\n",
    "        track_popularity = track_info['popularity']\n",
    "        track_is_explicit = track_info['explicit']\n",
    "        \n",
    "        first_artist_info = track_info['artists'][0]\n",
    "        first_artist_info_name = first_artist_info['name']\n",
    "\n",
    "        d['uri'] = track_info['uri']\n",
    "        d['first_artist_name'] = first_artist_info['name']\n",
    "        d['track_name'] = track_info['name']\n",
    "        d['track_duration_ms'] = track_info['duration_ms']\n",
    "        d['track_popularity'] = track_info['popularity']\n",
    "        d['is_track_explicit'] = track_info['explicit']\n",
    "    \n",
    "\n",
    "        track_audio_features = audio_features_to_grab(track_uri=track_uri, list_of_audio_features=list_of_audio_features)\n",
    "\n",
    "        d.update(track_audio_features)\n",
    "        \n",
    "        return d"
   ]
  },
  {
   "cell_type": "code",
   "execution_count": 39,
   "metadata": {},
   "outputs": [],
   "source": [
    "def get_track_info(track_dict:dict, list_of_audio_features=['danceability','energy','key','loudness','mode','speechiness','acousticness','instrumentalness','liveness','valence','tempo','time_signature']):\n",
    "    d = {}\n",
    "    \n",
    "    track_info = track['track']\n",
    "    track_uri = track_info['uri']\n",
    "    track_name = track_info['name']\n",
    "    track_duration = track_info['duration_ms']\n",
    "    track_popularity = track_info['popularity']\n",
    "    track_is_explicit = track_info['explicit']\n",
    "    \n",
    "    first_artist_info = track_info['artists'][0]\n",
    "    first_artist_info_name = first_artist_info['name']\n",
    "\n",
    "    d['uri'] = track_info['uri']\n",
    "    d['first_artist_name'] = first_artist_info['name']\n",
    "    d['track_name'] = track_info['name']\n",
    "    d['track_duration_ms'] = track_info['duration_ms']\n",
    "    d['track_popularity'] = track_info['popularity']\n",
    "    d['is_track_explicit'] = track_info['explicit']\n",
    "\n",
    "\n",
    "    track_audio_features = audio_features_to_grab(track_uri=track_uri, list_of_audio_features=list_of_audio_features)\n",
    "    \n",
    "    d.update(track_audio_features)\n",
    "\n",
    "    return d"
   ]
  },
  {
   "attachments": {},
   "cell_type": "markdown",
   "metadata": {},
   "source": [
    "### Now to add these functions into the larger loop of pulling all this data per song a playlist, and then on a per playlist basis"
   ]
  },
  {
   "cell_type": "code",
   "execution_count": 40,
   "metadata": {},
   "outputs": [],
   "source": [
    "# get_track_info(sp.playlist_items(playlist_tracks_uri)['items'][0]['track'])"
   ]
  },
  {
   "cell_type": "code",
   "execution_count": 41,
   "metadata": {},
   "outputs": [
    {
     "data": {
      "text/plain": [
       "'37i9dQZF1DXcBWIGoYBM5M'"
      ]
     },
     "execution_count": 41,
     "metadata": {},
     "output_type": "execute_result"
    }
   ],
   "source": [
    "playlist_tracks_uri"
   ]
  },
  {
   "cell_type": "code",
   "execution_count": 42,
   "metadata": {},
   "outputs": [
    {
     "data": {
      "text/plain": [
       "{'uri': 'spotify:track:6AQbmUe0Qwf5PZnt4HmTXv',\n",
       " 'first_artist_name': 'PinkPantheress',\n",
       " 'track_name': \"Boy's a liar Pt. 2\",\n",
       " 'track_duration_ms': 131013,\n",
       " 'track_popularity': 87,\n",
       " 'is_track_explicit': False,\n",
       " 'danceability': 0.696,\n",
       " 'energy': 0.809,\n",
       " 'key': 5,\n",
       " 'loudness': -8.254,\n",
       " 'mode': 1,\n",
       " 'speechiness': 0.05,\n",
       " 'acousticness': 0.252,\n",
       " 'instrumentalness': 0.000128,\n",
       " 'liveness': 0.248,\n",
       " 'valence': 0.857,\n",
       " 'tempo': 132.962,\n",
       " 'time_signature': 4}"
      ]
     },
     "execution_count": 42,
     "metadata": {},
     "output_type": "execute_result"
    }
   ],
   "source": [
    "get_playlist_track_info(playlist_uri=playlist_tracks_uri)"
   ]
  },
  {
   "attachments": {},
   "cell_type": "markdown",
   "metadata": {},
   "source": [
    "#### Pulling top 12 playlists and all their songs"
   ]
  },
  {
   "cell_type": "code",
   "execution_count": 43,
   "metadata": {},
   "outputs": [],
   "source": [
    "d = {}\n",
    "l = []\n",
    "# song_count = 0\n",
    "\n",
    "for playlist in top_list_multiple_playlists:\n",
    "    playlist_uri = playlist['tracks']['href'].split('/')[5]\n",
    "    \n",
    "    playlist_dict = {}\n",
    "\n",
    "    song_count = 0\n",
    "    for track in sp.playlist_items(playlist_uri)['items']:\n",
    "        track_dict = track['track']\n",
    "        track_info = get_track_info(track_dict=track_dict)\n",
    "\n",
    "        \n",
    "        dict_key_str = f\"{playlist['name']}_{song_count}\"\n",
    "\n",
    "        playlist_dict[dict_key_str] = track_info\n",
    "        \n",
    "        song_count += 1\n",
    "\n",
    "    d.update(playlist_dict)\n",
    "\n",
    "# d['artist'] = l\n"
   ]
  },
  {
   "cell_type": "code",
   "execution_count": 44,
   "metadata": {},
   "outputs": [
    {
     "data": {
      "text/html": [
       "<div>\n",
       "<style scoped>\n",
       "    .dataframe tbody tr th:only-of-type {\n",
       "        vertical-align: middle;\n",
       "    }\n",
       "\n",
       "    .dataframe tbody tr th {\n",
       "        vertical-align: top;\n",
       "    }\n",
       "\n",
       "    .dataframe thead th {\n",
       "        text-align: right;\n",
       "    }\n",
       "</style>\n",
       "<table border=\"1\" class=\"dataframe\">\n",
       "  <thead>\n",
       "    <tr style=\"text-align: right;\">\n",
       "      <th></th>\n",
       "      <th>uri</th>\n",
       "      <th>first_artist_name</th>\n",
       "      <th>track_name</th>\n",
       "      <th>track_duration_ms</th>\n",
       "      <th>track_popularity</th>\n",
       "      <th>is_track_explicit</th>\n",
       "      <th>danceability</th>\n",
       "      <th>energy</th>\n",
       "      <th>key</th>\n",
       "      <th>loudness</th>\n",
       "      <th>mode</th>\n",
       "      <th>speechiness</th>\n",
       "      <th>acousticness</th>\n",
       "      <th>instrumentalness</th>\n",
       "      <th>liveness</th>\n",
       "      <th>valence</th>\n",
       "      <th>tempo</th>\n",
       "      <th>time_signature</th>\n",
       "    </tr>\n",
       "  </thead>\n",
       "  <tbody>\n",
       "    <tr>\n",
       "      <th>Today's Top Hits_0</th>\n",
       "      <td>spotify:track:6AQbmUe0Qwf5PZnt4HmTXv</td>\n",
       "      <td>PinkPantheress</td>\n",
       "      <td>Boy's a liar Pt. 2</td>\n",
       "      <td>131013</td>\n",
       "      <td>87</td>\n",
       "      <td>False</td>\n",
       "      <td>0.696</td>\n",
       "      <td>0.809</td>\n",
       "      <td>5</td>\n",
       "      <td>-8.254</td>\n",
       "      <td>1</td>\n",
       "      <td>0.05</td>\n",
       "      <td>0.252</td>\n",
       "      <td>0.000128</td>\n",
       "      <td>0.248</td>\n",
       "      <td>0.857</td>\n",
       "      <td>132.962</td>\n",
       "      <td>4</td>\n",
       "    </tr>\n",
       "    <tr>\n",
       "      <th>Today's Top Hits_1</th>\n",
       "      <td>spotify:track:0yLdNVWF3Srea0uzk55zFn</td>\n",
       "      <td>Miley Cyrus</td>\n",
       "      <td>Flowers</td>\n",
       "      <td>200454</td>\n",
       "      <td>100</td>\n",
       "      <td>False</td>\n",
       "      <td>0.707</td>\n",
       "      <td>0.681</td>\n",
       "      <td>0</td>\n",
       "      <td>-4.325</td>\n",
       "      <td>1</td>\n",
       "      <td>0.0668</td>\n",
       "      <td>0.0632</td>\n",
       "      <td>0.000005</td>\n",
       "      <td>0.0322</td>\n",
       "      <td>0.646</td>\n",
       "      <td>117.999</td>\n",
       "      <td>4</td>\n",
       "    </tr>\n",
       "    <tr>\n",
       "      <th>Today's Top Hits_2</th>\n",
       "      <td>spotify:track:1Qrg8KqiBpW07V7PNxwwwL</td>\n",
       "      <td>SZA</td>\n",
       "      <td>Kill Bill</td>\n",
       "      <td>153946</td>\n",
       "      <td>92</td>\n",
       "      <td>False</td>\n",
       "      <td>0.644</td>\n",
       "      <td>0.735</td>\n",
       "      <td>8</td>\n",
       "      <td>-5.747</td>\n",
       "      <td>1</td>\n",
       "      <td>0.0391</td>\n",
       "      <td>0.0521</td>\n",
       "      <td>0.144</td>\n",
       "      <td>0.161</td>\n",
       "      <td>0.418</td>\n",
       "      <td>88.98</td>\n",
       "      <td>4</td>\n",
       "    </tr>\n",
       "    <tr>\n",
       "      <th>Today's Top Hits_3</th>\n",
       "      <td>spotify:track:5Z2MiIZ5I3jJvvmeWMLbOQ</td>\n",
       "      <td>RAYE</td>\n",
       "      <td>Escapism.</td>\n",
       "      <td>272373</td>\n",
       "      <td>89</td>\n",
       "      <td>True</td>\n",
       "      <td>0.538</td>\n",
       "      <td>0.742</td>\n",
       "      <td>2</td>\n",
       "      <td>-5.355</td>\n",
       "      <td>1</td>\n",
       "      <td>0.114</td>\n",
       "      <td>0.138</td>\n",
       "      <td>0.000047</td>\n",
       "      <td>0.0934</td>\n",
       "      <td>0.25</td>\n",
       "      <td>96.107</td>\n",
       "      <td>4</td>\n",
       "    </tr>\n",
       "    <tr>\n",
       "      <th>Today's Top Hits_4</th>\n",
       "      <td>spotify:track:2dHHgzDwk4BJdRwy9uXhTO</td>\n",
       "      <td>Metro Boomin</td>\n",
       "      <td>Creepin' (with The Weeknd &amp; 21 Savage)</td>\n",
       "      <td>221520</td>\n",
       "      <td>93</td>\n",
       "      <td>True</td>\n",
       "      <td>0.715</td>\n",
       "      <td>0.62</td>\n",
       "      <td>1</td>\n",
       "      <td>-6.005</td>\n",
       "      <td>0</td>\n",
       "      <td>0.0484</td>\n",
       "      <td>0.417</td>\n",
       "      <td>0</td>\n",
       "      <td>0.0822</td>\n",
       "      <td>0.172</td>\n",
       "      <td>97.95</td>\n",
       "      <td>4</td>\n",
       "    </tr>\n",
       "  </tbody>\n",
       "</table>\n",
       "</div>"
      ],
      "text/plain": [
       "                                                     uri first_artist_name  \\\n",
       "Today's Top Hits_0  spotify:track:6AQbmUe0Qwf5PZnt4HmTXv    PinkPantheress   \n",
       "Today's Top Hits_1  spotify:track:0yLdNVWF3Srea0uzk55zFn       Miley Cyrus   \n",
       "Today's Top Hits_2  spotify:track:1Qrg8KqiBpW07V7PNxwwwL               SZA   \n",
       "Today's Top Hits_3  spotify:track:5Z2MiIZ5I3jJvvmeWMLbOQ              RAYE   \n",
       "Today's Top Hits_4  spotify:track:2dHHgzDwk4BJdRwy9uXhTO      Metro Boomin   \n",
       "\n",
       "                                                track_name track_duration_ms  \\\n",
       "Today's Top Hits_0                      Boy's a liar Pt. 2            131013   \n",
       "Today's Top Hits_1                                 Flowers            200454   \n",
       "Today's Top Hits_2                               Kill Bill            153946   \n",
       "Today's Top Hits_3                               Escapism.            272373   \n",
       "Today's Top Hits_4  Creepin' (with The Weeknd & 21 Savage)            221520   \n",
       "\n",
       "                   track_popularity is_track_explicit danceability energy key  \\\n",
       "Today's Top Hits_0               87             False        0.696  0.809   5   \n",
       "Today's Top Hits_1              100             False        0.707  0.681   0   \n",
       "Today's Top Hits_2               92             False        0.644  0.735   8   \n",
       "Today's Top Hits_3               89              True        0.538  0.742   2   \n",
       "Today's Top Hits_4               93              True        0.715   0.62   1   \n",
       "\n",
       "                   loudness mode speechiness acousticness instrumentalness  \\\n",
       "Today's Top Hits_0   -8.254    1        0.05        0.252         0.000128   \n",
       "Today's Top Hits_1   -4.325    1      0.0668       0.0632         0.000005   \n",
       "Today's Top Hits_2   -5.747    1      0.0391       0.0521            0.144   \n",
       "Today's Top Hits_3   -5.355    1       0.114        0.138         0.000047   \n",
       "Today's Top Hits_4   -6.005    0      0.0484        0.417                0   \n",
       "\n",
       "                   liveness valence    tempo time_signature  \n",
       "Today's Top Hits_0    0.248   0.857  132.962              4  \n",
       "Today's Top Hits_1   0.0322   0.646  117.999              4  \n",
       "Today's Top Hits_2    0.161   0.418    88.98              4  \n",
       "Today's Top Hits_3   0.0934    0.25   96.107              4  \n",
       "Today's Top Hits_4   0.0822   0.172    97.95              4  "
      ]
     },
     "execution_count": 44,
     "metadata": {},
     "output_type": "execute_result"
    }
   ],
   "source": [
    "song_df = pd.DataFrame.from_dict(data=d).T\n",
    "song_df.head()"
   ]
  },
  {
   "cell_type": "code",
   "execution_count": 45,
   "metadata": {},
   "outputs": [
    {
     "data": {
      "text/plain": [
       "100"
      ]
     },
     "execution_count": 45,
     "metadata": {},
     "output_type": "execute_result"
    }
   ],
   "source": [
    "song_count"
   ]
  },
  {
   "cell_type": "code",
   "execution_count": 46,
   "metadata": {},
   "outputs": [
    {
     "data": {
      "text/plain": [
       "{'collaborative': False,\n",
       " 'description': 'PinkPantheress & Ice Spice are on top of the Hottest 50!',\n",
       " 'external_urls': {'spotify': 'https://open.spotify.com/playlist/37i9dQZF1DXcBWIGoYBM5M'},\n",
       " 'href': 'https://api.spotify.com/v1/playlists/37i9dQZF1DXcBWIGoYBM5M',\n",
       " 'id': '37i9dQZF1DXcBWIGoYBM5M',\n",
       " 'images': [{'height': None,\n",
       "   'url': 'https://i.scdn.co/image/ab67706f00000003ca22ddd6c22c8d2cdbeddc0a',\n",
       "   'width': None}],\n",
       " 'name': \"Today's Top Hits\",\n",
       " 'owner': {'display_name': 'Spotify',\n",
       "  'external_urls': {'spotify': 'https://open.spotify.com/user/spotify'},\n",
       "  'href': 'https://api.spotify.com/v1/users/spotify',\n",
       "  'id': 'spotify',\n",
       "  'type': 'user',\n",
       "  'uri': 'spotify:user:spotify'},\n",
       " 'primary_color': None,\n",
       " 'public': None,\n",
       " 'snapshot_id': 'MTY3NjYxMDAwMCwwMDAwMDAwMDg4ZjQxNjZjNzY4ZTVmNzlmM2Y1ZDg5ZDY5YWExZTdh',\n",
       " 'tracks': {'href': 'https://api.spotify.com/v1/playlists/37i9dQZF1DXcBWIGoYBM5M/tracks',\n",
       "  'total': 50},\n",
       " 'type': 'playlist',\n",
       " 'uri': 'spotify:playlist:37i9dQZF1DXcBWIGoYBM5M'}"
      ]
     },
     "execution_count": 46,
     "metadata": {},
     "output_type": "execute_result"
    }
   ],
   "source": [
    "todays_top_hits_playlist"
   ]
  },
  {
   "attachments": {},
   "cell_type": "markdown",
   "metadata": {},
   "source": [
    "#### Pull only the top hits playlist (50 songs)"
   ]
  },
  {
   "cell_type": "code",
   "execution_count": 50,
   "metadata": {},
   "outputs": [],
   "source": [
    "d = {}\n",
    "l = []\n",
    "\n",
    "top_hits_playlist_data = top_list_multiple_playlists[0]\n",
    "playlist_uri = top_hits_playlist_data['tracks']['href'].split('/')[5]\n",
    "\n",
    "playlist_dict = {}\n",
    "\n",
    "song_count = 0\n",
    "for track in sp.playlist_items(playlist_uri)['items']:\n",
    "    track_dict = track['track']\n",
    "    track_info = get_track_info(track_dict=track_dict)\n",
    "\n",
    "    \n",
    "    dict_key_str = f\"{playlist['name']}_{song_count}\"\n",
    "\n",
    "    playlist_dict[dict_key_str] = track_info\n",
    "    \n",
    "    song_count += 1\n",
    "\n",
    "d.update(playlist_dict)"
   ]
  },
  {
   "cell_type": "code",
   "execution_count": 53,
   "metadata": {},
   "outputs": [
    {
     "data": {
      "text/html": [
       "<div>\n",
       "<style scoped>\n",
       "    .dataframe tbody tr th:only-of-type {\n",
       "        vertical-align: middle;\n",
       "    }\n",
       "\n",
       "    .dataframe tbody tr th {\n",
       "        vertical-align: top;\n",
       "    }\n",
       "\n",
       "    .dataframe thead th {\n",
       "        text-align: right;\n",
       "    }\n",
       "</style>\n",
       "<table border=\"1\" class=\"dataframe\">\n",
       "  <thead>\n",
       "    <tr style=\"text-align: right;\">\n",
       "      <th></th>\n",
       "      <th>uri</th>\n",
       "      <th>first_artist_name</th>\n",
       "      <th>track_name</th>\n",
       "      <th>track_duration_ms</th>\n",
       "      <th>track_popularity</th>\n",
       "      <th>is_track_explicit</th>\n",
       "      <th>danceability</th>\n",
       "      <th>energy</th>\n",
       "      <th>key</th>\n",
       "      <th>loudness</th>\n",
       "      <th>mode</th>\n",
       "      <th>speechiness</th>\n",
       "      <th>acousticness</th>\n",
       "      <th>instrumentalness</th>\n",
       "      <th>liveness</th>\n",
       "      <th>valence</th>\n",
       "      <th>tempo</th>\n",
       "      <th>time_signature</th>\n",
       "    </tr>\n",
       "  </thead>\n",
       "  <tbody>\n",
       "    <tr>\n",
       "      <th>New Music Friday_0</th>\n",
       "      <td>spotify:track:6AQbmUe0Qwf5PZnt4HmTXv</td>\n",
       "      <td>PinkPantheress</td>\n",
       "      <td>Boy's a liar Pt. 2</td>\n",
       "      <td>131013</td>\n",
       "      <td>87</td>\n",
       "      <td>False</td>\n",
       "      <td>0.696</td>\n",
       "      <td>0.809</td>\n",
       "      <td>5</td>\n",
       "      <td>-8.254</td>\n",
       "      <td>1</td>\n",
       "      <td>0.05</td>\n",
       "      <td>0.252</td>\n",
       "      <td>0.000128</td>\n",
       "      <td>0.248</td>\n",
       "      <td>0.857</td>\n",
       "      <td>132.962</td>\n",
       "      <td>4</td>\n",
       "    </tr>\n",
       "    <tr>\n",
       "      <th>New Music Friday_1</th>\n",
       "      <td>spotify:track:0yLdNVWF3Srea0uzk55zFn</td>\n",
       "      <td>Miley Cyrus</td>\n",
       "      <td>Flowers</td>\n",
       "      <td>200454</td>\n",
       "      <td>100</td>\n",
       "      <td>False</td>\n",
       "      <td>0.707</td>\n",
       "      <td>0.681</td>\n",
       "      <td>0</td>\n",
       "      <td>-4.325</td>\n",
       "      <td>1</td>\n",
       "      <td>0.0668</td>\n",
       "      <td>0.0632</td>\n",
       "      <td>0.000005</td>\n",
       "      <td>0.0322</td>\n",
       "      <td>0.646</td>\n",
       "      <td>117.999</td>\n",
       "      <td>4</td>\n",
       "    </tr>\n",
       "    <tr>\n",
       "      <th>New Music Friday_2</th>\n",
       "      <td>spotify:track:1Qrg8KqiBpW07V7PNxwwwL</td>\n",
       "      <td>SZA</td>\n",
       "      <td>Kill Bill</td>\n",
       "      <td>153946</td>\n",
       "      <td>92</td>\n",
       "      <td>False</td>\n",
       "      <td>0.644</td>\n",
       "      <td>0.735</td>\n",
       "      <td>8</td>\n",
       "      <td>-5.747</td>\n",
       "      <td>1</td>\n",
       "      <td>0.0391</td>\n",
       "      <td>0.0521</td>\n",
       "      <td>0.144</td>\n",
       "      <td>0.161</td>\n",
       "      <td>0.418</td>\n",
       "      <td>88.98</td>\n",
       "      <td>4</td>\n",
       "    </tr>\n",
       "    <tr>\n",
       "      <th>New Music Friday_3</th>\n",
       "      <td>spotify:track:5Z2MiIZ5I3jJvvmeWMLbOQ</td>\n",
       "      <td>RAYE</td>\n",
       "      <td>Escapism.</td>\n",
       "      <td>272373</td>\n",
       "      <td>89</td>\n",
       "      <td>True</td>\n",
       "      <td>0.538</td>\n",
       "      <td>0.742</td>\n",
       "      <td>2</td>\n",
       "      <td>-5.355</td>\n",
       "      <td>1</td>\n",
       "      <td>0.114</td>\n",
       "      <td>0.138</td>\n",
       "      <td>0.000047</td>\n",
       "      <td>0.0934</td>\n",
       "      <td>0.25</td>\n",
       "      <td>96.107</td>\n",
       "      <td>4</td>\n",
       "    </tr>\n",
       "    <tr>\n",
       "      <th>New Music Friday_4</th>\n",
       "      <td>spotify:track:2dHHgzDwk4BJdRwy9uXhTO</td>\n",
       "      <td>Metro Boomin</td>\n",
       "      <td>Creepin' (with The Weeknd &amp; 21 Savage)</td>\n",
       "      <td>221520</td>\n",
       "      <td>93</td>\n",
       "      <td>True</td>\n",
       "      <td>0.715</td>\n",
       "      <td>0.62</td>\n",
       "      <td>1</td>\n",
       "      <td>-6.005</td>\n",
       "      <td>0</td>\n",
       "      <td>0.0484</td>\n",
       "      <td>0.417</td>\n",
       "      <td>0</td>\n",
       "      <td>0.0822</td>\n",
       "      <td>0.172</td>\n",
       "      <td>97.95</td>\n",
       "      <td>4</td>\n",
       "    </tr>\n",
       "  </tbody>\n",
       "</table>\n",
       "</div>"
      ],
      "text/plain": [
       "                                                     uri first_artist_name  \\\n",
       "New Music Friday_0  spotify:track:6AQbmUe0Qwf5PZnt4HmTXv    PinkPantheress   \n",
       "New Music Friday_1  spotify:track:0yLdNVWF3Srea0uzk55zFn       Miley Cyrus   \n",
       "New Music Friday_2  spotify:track:1Qrg8KqiBpW07V7PNxwwwL               SZA   \n",
       "New Music Friday_3  spotify:track:5Z2MiIZ5I3jJvvmeWMLbOQ              RAYE   \n",
       "New Music Friday_4  spotify:track:2dHHgzDwk4BJdRwy9uXhTO      Metro Boomin   \n",
       "\n",
       "                                                track_name track_duration_ms  \\\n",
       "New Music Friday_0                      Boy's a liar Pt. 2            131013   \n",
       "New Music Friday_1                                 Flowers            200454   \n",
       "New Music Friday_2                               Kill Bill            153946   \n",
       "New Music Friday_3                               Escapism.            272373   \n",
       "New Music Friday_4  Creepin' (with The Weeknd & 21 Savage)            221520   \n",
       "\n",
       "                   track_popularity is_track_explicit danceability energy key  \\\n",
       "New Music Friday_0               87             False        0.696  0.809   5   \n",
       "New Music Friday_1              100             False        0.707  0.681   0   \n",
       "New Music Friday_2               92             False        0.644  0.735   8   \n",
       "New Music Friday_3               89              True        0.538  0.742   2   \n",
       "New Music Friday_4               93              True        0.715   0.62   1   \n",
       "\n",
       "                   loudness mode speechiness acousticness instrumentalness  \\\n",
       "New Music Friday_0   -8.254    1        0.05        0.252         0.000128   \n",
       "New Music Friday_1   -4.325    1      0.0668       0.0632         0.000005   \n",
       "New Music Friday_2   -5.747    1      0.0391       0.0521            0.144   \n",
       "New Music Friday_3   -5.355    1       0.114        0.138         0.000047   \n",
       "New Music Friday_4   -6.005    0      0.0484        0.417                0   \n",
       "\n",
       "                   liveness valence    tempo time_signature  \n",
       "New Music Friday_0    0.248   0.857  132.962              4  \n",
       "New Music Friday_1   0.0322   0.646  117.999              4  \n",
       "New Music Friday_2    0.161   0.418    88.98              4  \n",
       "New Music Friday_3   0.0934    0.25   96.107              4  \n",
       "New Music Friday_4   0.0822   0.172    97.95              4  "
      ]
     },
     "execution_count": 53,
     "metadata": {},
     "output_type": "execute_result"
    }
   ],
   "source": [
    "top_hits_df = pd.DataFrame.from_dict(data=d).T\n",
    "top_hits_df.head()"
   ]
  },
  {
   "attachments": {},
   "cell_type": "markdown",
   "metadata": {},
   "source": [
    "---------------"
   ]
  },
  {
   "cell_type": "code",
   "execution_count": 70,
   "metadata": {},
   "outputs": [],
   "source": [
    "with open('../hide/genius_api_client_access_token.txt') as f:\n",
    "    genius_access_token = f.read()\n",
    "\n",
    "with open('../hide/genius_api_client_id.txt') as f:\n",
    "    genius_client_id = f.read()\n",
    "\n",
    "with open('../hide/genius_api_secret_key.txt') as f:\n",
    "    genius_secret_key = f.read()"
   ]
  },
  {
   "cell_type": "code",
   "execution_count": 71,
   "metadata": {},
   "outputs": [],
   "source": [
    "from lyricsgenius import Genius"
   ]
  },
  {
   "cell_type": "code",
   "execution_count": 72,
   "metadata": {},
   "outputs": [],
   "source": [
    "genius = Genius(genius_access_token, verbose=False, response_format='html')\n",
    "# genius_maneskin = genius.search_artist('Maneskin')"
   ]
  },
  {
   "cell_type": "code",
   "execution_count": 53,
   "metadata": {},
   "outputs": [],
   "source": [
    "genius_song_the_loneliest = genius.search_song(title='the loneliest', artist='maneskin')\n",
    "the_loneliest_comments = genius.song_comments(genius_song_the_loneliest.id)"
   ]
  },
  {
   "cell_type": "code",
   "execution_count": 68,
   "metadata": {},
   "outputs": [],
   "source": [
    "maneskin_genius = genius.search_artist('maneskin', max_songs=0)\n",
    "genius_lyrics = genius.search_song('the loneliest', 'maneskin')"
   ]
  },
  {
   "cell_type": "code",
   "execution_count": 69,
   "metadata": {},
   "outputs": [
    {
     "data": {
      "text/plain": [
       "\"TranslationsPortuguêsItalianoFrançaisTHE LONELIEST Lyrics[Intro]\\nYou'll be the saddest part of me\\nA part of me that will never be mine\\nIt's\\u2005obvious\\nTonight\\u2005is gonna be\\u2005the loneliest\\nYou're still the oxygen I\\u2005breathe\\nI see your face when I close my eyes\\nIt's torturous\\nTonight\\u205fis\\u205fgonna\\u205fbe the loneliest\\n\\n[Verse 1]\\nThere's\\u205fa few lines\\u205fthat I have wrote\\nIn case of death, that's what I want\\nThat's what I want\\nSo don't be sad when I'll be gone\\nThere's just one thing I hopе you know\\nI loved you so\\n'Cause I don't evеn care about the time I've got left here\\nThe only thing I know now is that I want to spend it\\nWith you, with you\\nNobody else here\\nTonight is gonna be the loneliest\\n[Chorus]\\nYou'll be the saddest part of me\\nA part of me that will never be mine\\nIt's obvious\\nTonight is gonna be the loneliest\\nYou're still the oxygen I breathe\\nI see your face when I close my eyes\\nIt's torturous\\nTonight is gonna be the loneliest\\n\\n[Verse 2]\\nI'm sorry but I gotta go\\nIf you'll ever miss me\\nGive this song another go\\nAnd I just keep on thinking how you made me feel better\\nAnd all the crazy little things that we did together\\nIn the end, in the end, it doesn't matter\\nIf tonight is gonna be the loneliest\\n\\n[Chorus]\\nYou'll be the saddest part of me\\nA part of me that will never be mine\\nIt's obvious\\nTonight is gonna be the loneliest\\nYou're still the oxygen I breathe\\nI see your face when I close my eyes\\nIt's torturous\\nTonight is gonna be the loneliest\\nSee Måneskin LiveGet tickets as low as $53You might also like[Guitar solo]\\n\\n[Chorus]\\nYou'll be the saddest part of me\\nA part of me that will never be mine\\nIt's obvious\\nTonight is gonna be the loneliest\\nYou'll be the saddest part of me\\nA part of me that will never be mine\\nIt's obvious\\nTonight is gonna be the loneliest\\nYou're still the oxygen I breathe\\nI see your face when I close my eyes\\nIt's torturous\\nTonight is gonna be the loneliest11Embed\""
      ]
     },
     "execution_count": 69,
     "metadata": {},
     "output_type": "execute_result"
    }
   ],
   "source": [
    "genius_lyrics.lyrics"
   ]
  },
  {
   "cell_type": "code",
   "execution_count": 103,
   "metadata": {},
   "outputs": [],
   "source": [
    "def attach_genius_lyrics(artist_name, song_title):\n",
    "    print(f'Artist: {artist_name} - Song: {song_title}')\n",
    "    lyrics = genius.search_song(artist=artist_name, title=song_title)\n",
    "    if type(lyrics) == type(None):\n",
    "        return 'Missing Lyrics'\n",
    "    else:\n",
    "        return lyrics.lyrics"
   ]
  },
  {
   "cell_type": "code",
   "execution_count": 104,
   "metadata": {},
   "outputs": [
    {
     "name": "stdout",
     "output_type": "stream",
     "text": [
      "Artist: PinkPantheress - Song: Boy's a liar Pt. 2\n",
      "Artist: Miley Cyrus - Song: Flowers\n",
      "Artist: SZA - Song: Kill Bill\n",
      "Artist: RAYE - Song: Escapism.\n",
      "Artist: Metro Boomin - Song: Creepin' (with The Weeknd & 21 Savage)\n",
      "Artist: Bizarrap - Song: Shakira: Bzrp Music Sessions, Vol. 53\n",
      "Artist: Rema - Song: Calm Down (with Selena Gomez)\n",
      "Artist: Harry Styles - Song: As It Was\n",
      "Artist: Beyoncé - Song: CUFF IT\n",
      "Artist: Sam Smith - Song: Unholy (feat. Kim Petras)\n",
      "Artist: JVKE - Song: golden hour\n",
      "Artist: The Kid LAROI - Song: Love Again\n",
      "Artist: Taylor Swift - Song: Anti-Hero\n",
      "Artist: David Guetta - Song: I'm Good (Blue)\n",
      "Artist: Coi Leray - Song: Players\n",
      "Artist: Lil Uzi Vert - Song: Just Wanna Rock\n",
      "Artist: Central Cee - Song: LET GO\n",
      "Artist: SZA - Song: Snooze\n",
      "Artist: d4vd - Song: Here With Me\n",
      "Artist: Tiësto - Song: 10:35\n",
      "Artist: Meghan Trainor - Song: Made You Look\n",
      "Artist: NewJeans - Song: OMG\n",
      "Artist: Post Malone - Song: I Like You (A Happier Song) (with Doja Cat)\n",
      "Artist: OneRepublic - Song: I Ain't Worried\n",
      "Artist: Sam Smith - Song: I'm Not Here To Make Friends\n",
      "Artist: Oliver Tree - Song: Miss You\n",
      "Artist: Morgan Wallen - Song: Last Night\n",
      "Artist: Yandel - Song: Yandel 150\n",
      "Artist: Lil Nas X - Song: STAR WALKIN' (League of Legends Worlds Anthem)\n",
      "Artist: Drake - Song: Rich Flex\n",
      "Artist: Arcángel - Song: La Jumpa\n",
      "Artist: Stephen Sanchez - Song: Until I Found You (with Em Beihold) - Em Beihold Version\n",
      "Artist: Taylor Swift - Song: Lavender Haze\n",
      "Artist: Harry Styles - Song: Late Night Talking\n",
      "Artist: Libianca - Song: People\n",
      "Artist: SZA - Song: Nobody Gets Me\n",
      "Artist: Zach Bryan - Song: Something in the Orange\n",
      "Artist: Måneskin - Song: THE LONELIEST\n",
      "Artist: Steve Lacy - Song: Bad Habit\n",
      "Artist: Ayra Starr - Song: Rush\n",
      "Artist: Sabrina Carpenter - Song: Nonsense\n",
      "Artist: Lizzo - Song: About Damn Time\n",
      "Artist: Manuel Turizo - Song: La Bachata\n",
      "Artist: Imagine Dragons - Song: Bones\n",
      "Artist: ThxSoMch - Song: SPIT IN MY FACE!\n",
      "Artist: Bad Bunny - Song: Tití Me Preguntó\n",
      "Artist: Rihanna - Song: Lift Me Up - From Black Panther: Wakanda Forever - Music From and Inspired By\n",
      "Artist: Doja Cat - Song: Vegas (From the Original Motion Picture Soundtrack ELVIS)\n",
      "Artist: ROSALÍA - Song: LLYLM\n",
      "Artist: Metro Boomin - Song: Superhero (Heroes & Villains) [with Future & Chris Brown]\n"
     ]
    }
   ],
   "source": [
    "top_hits_df['lyrics'] = top_hits_df.apply(lambda x: attach_genius_lyrics(artist_name=x['first_artist_name'],\n",
    "                                          song_title=x['track_name']), axis=1)"
   ]
  },
  {
   "cell_type": "code",
   "execution_count": 106,
   "metadata": {},
   "outputs": [],
   "source": [
    "top_hits_df.to_csv('../data/top_hits_with_lyrics.csv')"
   ]
  },
  {
   "cell_type": "code",
   "execution_count": null,
   "metadata": {},
   "outputs": [],
   "source": []
  }
 ],
 "metadata": {
  "kernelspec": {
   "display_name": "spotify_summarizer",
   "language": "python",
   "name": "python3"
  },
  "language_info": {
   "codemirror_mode": {
    "name": "ipython",
    "version": 3
   },
   "file_extension": ".py",
   "mimetype": "text/x-python",
   "name": "python",
   "nbconvert_exporter": "python",
   "pygments_lexer": "ipython3",
   "version": "3.10.4"
  },
  "orig_nbformat": 4,
  "vscode": {
   "interpreter": {
    "hash": "383791423988fac0044472cbfa675313e676ffedf1a9d67e3ee1922b69fc4540"
   }
  }
 },
 "nbformat": 4,
 "nbformat_minor": 2
}
